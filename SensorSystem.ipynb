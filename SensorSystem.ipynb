{
 "cells": [
  {
   "cell_type": "markdown",
   "id": "0ec835dc",
   "metadata": {},
   "source": [
    "# Sensorsystem for temperaturmåling #\n",
    "I denne oppgaven tar vi for oss et sensorsystem som har som oppgave å levere digitalisert informasjon om en fysisk størrelse til en prosessor. \n",
    "## Del 1: Additiv støy ##\n",
    "Vi starter med et forenkelt system\n",
    "slik som i figur 1.\n",
    "\n",
    "<figure>\n",
    "    <img src=\"Figures/SensorSystem-enkel.png\" alt=\"Skjematisk beskrivelse av enkelt sensorsystem bestående bare av en sensor.\" width=\"400px\" caption=\"Figur 1: Enkelt sensorsystem\">\n",
    "    <figcaption>Figur 1: Enkelt sensorsystem.</figcaption>\n",
    "</figure>\n",
    "\n",
    "Sensoren er konstruert slik at sammenhengen mellom spenning $v_\\mathrm{T}$ og temperatur $t$ er gitt ved \n",
    "$$t = 100 v_\\mathrm{T}.$$\n",
    "Merk at $v_\\mathrm{T}$ og temperatur $t$ er ukjente deterministiske størrelser. I praksis er $v_\\mathrm{T}$ utsatt for støy og sensoren leverer en spenning beskrevet av den stokastiske variablen \n",
    "$$V = v_\\mathrm{T}+V_\\mathrm{S},$$\n",
    "hvor $V_\\mathrm{S}$ er støy. I denne oppgaven antar vi at $V_\\mathrm{S}$ har en normalfordeling med forventningsverdi $\\mu_\\mathrm{S} = 0$ og varians $\\sigma_\\mathrm{S}^2$."
   ]
  },
  {
   "cell_type": "markdown",
   "id": "2fbd69c7",
   "metadata": {},
   "source": [
    "### Oppgave a) ###\n",
    "Den virkelige temperaturen $T$ estimeres ved bruk av estimatoren $\\hat{T} = 100 V$. Finn forventningsverdien og variansen til estimatoren som en funksjon av $T$. Hvilken fordeling har $\\hat{T}$?"
   ]
  },
  {
   "cell_type": "markdown",
   "id": "05d6daa9",
   "metadata": {},
   "source": [
    "### Oppgave b) ###\n",
    "For å redusere feilen som oppstår på grunn av støy gjør vi flere målinger $\\hat{T}_1, \\hat{T}_2, \\ldots, \\hat{T}_N$ og bruker estimatoren\n",
    "$$ \\tilde{T} = \\frac{1}{N}\\sum_{n = 1}^N \\hat{T}_n.$$\n",
    "\n",
    "Anta at målingene $\\hat{T}_1, \\ldots, \\hat{T}_N$ er uavhengige og\n",
    "at støyvariansen $\\sigma_\\mathrm{S}^2 = 0.1$. Vi ønsker at estimert temperatur skal ha en feil på 1 eller mindre. Hvor mange målinger $N$ må gjøres for at sannsynligheten for å oppnå dette er større eller lik $0.99$?"
   ]
  },
  {
   "cell_type": "markdown",
   "id": "6c9e3d8e",
   "metadata": {},
   "source": [
    "## Del 2: Avrundingsfeil ##\n",
    "Spenningen fra sensoren må diskretiseres for å leveres til en prosessor, og vi ser for oss et utvidet system slik som vist i figur 2.\n",
    "\n",
    "<figure>\n",
    "    <img src=\"Figures/SensorSystem.png\" alt=\"Skjematisk beskrivelse av sensorsystem bestående bare av sensor, ADC og prosessor.\" width=\"700px\">\n",
    "    <figcaption>Figur 2: Sensorsystem som leverer digitalt signal til prosessor.</figcaption>\n",
    "</figure>\n",
    "\n",
    "ADC står for Analog-til-digital omformer og omgjør den kontinuerlige verdien til en digital verdi uttrykt ved $M\\geq 1$ bit. Anta at vi kan garantere at spenningen $v$ alltid ligger i intervallet $[0,1]$. Anta at ADC vil representere en spenning $0 \\leq v \\leq 1$ ved verdien \n",
    "$$v_D = \\sum_{m = 1}^M b_m 2^{-m}$$\n",
    "der $b_m$ er enten 0 eller 1 for $m = 1, 2, \\ldots, M$.\n",
    "\n",
    "For $M = 1$ er mulige verdier:\n",
    "  - $v_d = 0$ for $b_1 = 0$\n",
    "  - $v_d = 1/2$ for $b_1 = 1$.\n",
    "\n",
    "For $M = 2$ er mulige verdier:\n",
    "  - $v_d = 0$ for $b_1 = 0$ og $b_2 = 0$\n",
    "  - $v_d = 1/4$ for $b_1 = 0$ og $b_2 = 1$\n",
    "  - $v_d = 2/4 = 1/2$ for $b_1 = 1$ og $b_2 = 0$\n",
    "  - $v_d = 3/4$ for $b_1 = 1$ og $b_2 = 1$\n",
    "\n",
    "For en generell $M$ er mulige verdier\n",
    "  - $v_d = \\frac{i}{2^M}$ for $i = 0, 1, \\ldots, M-1$\n"
   ]
  },
  {
   "cell_type": "markdown",
   "id": "ed21b728",
   "metadata": {},
   "source": [
    "### Oppgave c) ###\n",
    "Vi skal først se på dette systemet gjennom simulering. Vi antar at virkelig temperatur $t = 25$, støyvarians er $\\sigma_\\mathrm{S}^2 = 0.005$, og at vi bruker $M = 8$ bit. Det vil si at avrundet verdi \n",
    "$$v_d = \\frac{1}{2^M}\\text{round}(2^M v),$$\n",
    "der $\\text{round}$ runder av til nærmeste heltall."
   ]
  },
  {
   "cell_type": "code",
   "execution_count": null,
   "id": "f46f97ee",
   "metadata": {},
   "outputs": [],
   "source": [
    "# Last inn viktige funksjoner\n",
    "# Usikker på hvor mye vi skal tilby og hvor mye student skal lage selv.\n",
    "import "
   ]
  },
  {
   "cell_type": "code",
   "execution_count": 1,
   "id": "2ba8e333",
   "metadata": {},
   "outputs": [],
   "source": [
    "# Lag en funksjon som estimerer varians og forventningsskjevhet som en funksjon av virkelig \n",
    "# verdi $t$, støyvarians $\\sigma_\\mathrm{S}^2$, og antall bit $M$."
   ]
  },
  {
   "cell_type": "markdown",
   "id": "122720b5",
   "metadata": {},
   "source": [
    "### Oppgave d) ###\n",
    "En ulempe med simuleringen er at det kan være vanskelige å oppnå innsikt om betydningen av parameterene $\\sigma_{\\mathrm{S}}^2$ (støyvarians) og $\\Delta$ (kvantiseringsintervall). Vi kan tilnærme sluttresultatet av normalfordelt støy og diskretisering som\n",
    "$$ V_\\mathrm{D} = V + V_\\mathrm{A} $$\n",
    "der $\\mathrm{V}_\\mathrm{A}$ uniformfordelt på intervallet $(-\\Delta/2, \\Delta/2)$, og $V$ og $V_\\mathrm{A}$ er uavhengige stokastiske variable. \n",
    "\n",
    "Finn et uttrykk for variansen og forventningskjevheten til $V_\\mathrm{D}$ som en funksjon av virkelig \n",
    "verdi $t$, støyvarians $\\sigma_\\mathrm{S}^2$, og antall bit $M$."
   ]
  },
  {
   "cell_type": "markdown",
   "id": "4eab6120",
   "metadata": {},
   "source": [
    "### Oppgave e) ###\n",
    "Her tenker jeg meg at det bør være en sammenligning av de to framgangsmåtene: simulering og utregning for hånd. Den burde framheve styrkene og svakhetene ved de to framgangsmåtene."
   ]
  },
  {
   "cell_type": "markdown",
   "id": "aa1b03c0",
   "metadata": {},
   "source": [
    "### Oppgave f) ###\n",
    "Hvor mange bit for at avrundingsfeil skal være liten i forhold additiv støy hvis $\\sigma_\\mathrm{S}^2 = 0.005$. 10% kvantifiseringsfeil?"
   ]
  },
  {
   "cell_type": "markdown",
   "id": "32f72b18",
   "metadata": {},
   "source": [
    "### Oppgave g) ###\n",
    "Her kan vi se på muligheten for kobling til oppgave b). Kan vi bruke færre bit hvis vi midler over flere uavhengige målinger?"
   ]
  }
 ],
 "metadata": {
  "kernelspec": {
   "display_name": "Python 3 (ipykernel)",
   "language": "python",
   "name": "python3"
  },
  "language_info": {
   "codemirror_mode": {
    "name": "ipython",
    "version": 3
   },
   "file_extension": ".py",
   "mimetype": "text/x-python",
   "name": "python",
   "nbconvert_exporter": "python",
   "pygments_lexer": "ipython3",
   "version": "3.9.13"
  }
 },
 "nbformat": 4,
 "nbformat_minor": 5
}
