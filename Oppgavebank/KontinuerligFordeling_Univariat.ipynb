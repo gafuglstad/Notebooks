{
 "cells": [
  {
   "cell_type": "markdown",
   "id": "63347567",
   "metadata": {},
   "source": [
    "# Oppgave #\n",
    "La $X$ være en kontinuerlig fordelt stokastisk variabel med sannsynlighetstetthet\n",
    "$$ f(x) = \\begin{cases} k(1-x^2), & \\text{for $-1\\leq x\\leq 1$,} \\\\ 0, & \\text{ellers,}\\end{cases}$$\n",
    "der $k\\in \\mathbb{R}$ er en konstant."
   ]
  },
  {
   "cell_type": "markdown",
   "id": "709495de",
   "metadata": {},
   "source": [
    "---\n",
    "## a) ##\n",
    "Bestem $k$ slik at $f(x)$ er en gyldig sannsynlighetstetthet, og skisser $f(x)$."
   ]
  },
  {
   "cell_type": "markdown",
   "id": "f57ae85c",
   "metadata": {},
   "source": [
    "--- \n",
    "## b) ##\n",
    "Plott sannsynlighetstettheten i Python og sammenlign med skissen.\n"
   ]
  },
  {
   "cell_type": "code",
   "execution_count": 1,
   "id": "d6b85404",
   "metadata": {},
   "outputs": [],
   "source": [
    "import matplotlib.pyplot as plt\n",
    "\n",
    "# Write code here"
   ]
  },
  {
   "cell_type": "markdown",
   "id": "d01c577b",
   "metadata": {},
   "source": [
    "--- \n",
    "## c) ##\n",
    "Beregn forventningsverdien til $X$ og sannsynlighetene $\\mathrm{P}(X \\leq 0.6)$ og $\\mathrm{P}(X \\leq 0.8 | X > 0.6)$."
   ]
  }
 ],
 "metadata": {
  "kernelspec": {
   "display_name": "Python 3 (ipykernel)",
   "language": "python",
   "name": "python3"
  },
  "language_info": {
   "codemirror_mode": {
    "name": "ipython",
    "version": 3
   },
   "file_extension": ".py",
   "mimetype": "text/x-python",
   "name": "python",
   "nbconvert_exporter": "python",
   "pygments_lexer": "ipython3",
   "version": "3.9.13"
  }
 },
 "nbformat": 4,
 "nbformat_minor": 5
}
