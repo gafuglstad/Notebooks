{
 "cells": [
  {
   "cell_type": "markdown",
   "id": "63347567",
   "metadata": {},
   "source": [
    "# Oppgave #\n",
    "La $X$ være en kontinuerlig fordelt stokastisk variabel med sannsynlighetstetthet\n",
    "$$ f(x) = \\begin{cases} k(1-x^2), & \\text{for $-1\\leq x\\leq 1$,} \\\\ 0, & \\text{ellers,}\\end{cases}$$\n",
    "der $k\\in \\mathbb{R}$ er en konstant."
   ]
  },
  {
   "cell_type": "markdown",
   "id": "709495de",
   "metadata": {},
   "source": [
    "---\n",
    "## a) ##\n",
    "Bestem $k$ slik at $f(x)$ er en gyldig sannsynlighetstetthet, og skisser $f(x)$."
   ]
  },
  {
   "cell_type": "markdown",
   "id": "2198bace",
   "metadata": {},
   "source": [
    "--- \n",
    "## b) ##\n",
    "Plott sannsynlighetstettheten i Python og sammenlign med skissen.\n"
   ]
  },
  {
   "cell_type": "code",
   "execution_count": 1,
   "id": "d6b85404",
   "metadata": {},
   "outputs": [],
   "source": [
    "import matplotlib.pyplot as plt\n",
    "\n",
    "# Write code here"
   ]
  },
  {
   "cell_type": "markdown",
   "id": "d01c577b",
   "metadata": {},
   "source": [
    "--- \n",
    "## c) ##\n",
    "Beregn forventningsverdien til $X$ og sannsynlighetene $\\mathrm{P}(X \\leq 0.6)$ og $\\mathrm{P}(X \\leq 0.8 | X > 0.6)$."
   ]
  },
  {
   "cell_type": "markdown",
   "id": "1f2de5d6",
   "metadata": {},
   "source": [
    "--- \n",
    "Det finnes teknikker for å simulere fra vilkårlige fordelinger som man kan lære om for eksempel i TMA4300 Beregningskrevende statistikk. En slik metode er \"rejection sampling\" som er implementert i funskjonen\n",
    "`simuler_X(nSamples)` under som simulerer `nSamples` verdier av $X$. I denne oppgaven skal denne funksjonen bare brukes videre uten at dere trenger å forstå den."
   ]
  },
  {
   "cell_type": "code",
   "execution_count": 28,
   "id": "0a8338bd",
   "metadata": {},
   "outputs": [],
   "source": [
    "import numpy as np\n",
    "\n",
    "# Denne funksjonen gir nSamples simuleringer av X\n",
    "def simuler_X(nSamples):\n",
    "    verdier = np.zeros(nSamples)\n",
    "    antall = 0\n",
    "    while (antall < nSamples):\n",
    "        u1 = 2*np.random.uniform()-1\n",
    "        u2 = np.random.uniform()\n",
    "        if (4*u2/3 < (1-u1**2)):\n",
    "            verdier[antall] = u1\n",
    "            antall = antall + 1\n",
    "    return verdier"
   ]
  },
  {
   "cell_type": "markdown",
   "id": "74b2c1cc",
   "metadata": {},
   "source": [
    "--- \n",
    "## d) ##\n",
    "Simuler $n = 10000$ verdier av $X$ og plott histogrammet av de simulerte verdien. Plott den sanne fordelingen $f(x)$, $-1 \\leq 1$, sammen med histogrammet og vurder om det virker som `simuler_X` simulerer fra riktig fordeling.\n",
    "\n",
    "Hint (fra `matplotlib`): \n",
    "1. `pyplot.hist(x, bins = None, range = None, density = True)` kan brukes til å plotte et histogram. NB: `density = False` er default oppførsels og gir feil skalering.\n",
    "2. `pylot.plot` kan brukes til å plott linjer.\n"
   ]
  },
  {
   "cell_type": "code",
   "execution_count": 39,
   "id": "61129633",
   "metadata": {},
   "outputs": [],
   "source": [
    "import matplotlib.pyplot as plt\n",
    "import numpy as np\n",
    "\n",
    "# Skriv kode her"
   ]
  },
  {
   "cell_type": "markdown",
   "id": "8b1f9e47",
   "metadata": {},
   "source": [
    "--- \n",
    "## e) ##\n",
    "I denne oppgaven skal du estimere verdiene i c) gjennom stokastisk simulering. Bruk funksjonen `simuler_X(nSamples)` til å tilnærme $\\mathrm{E}[X]$, $\\mathrm{P}(X \\leq 0.6)$ og $\\mathrm{P}(X \\leq 0.8 | X > 0.6)$ basert på 10000 simuleringer av $X$.\n"
   ]
  },
  {
   "cell_type": "code",
   "execution_count": 40,
   "id": "a9befc2b",
   "metadata": {},
   "outputs": [],
   "source": [
    "# Skriv kode her"
   ]
  }
 ],
 "metadata": {
  "kernelspec": {
   "display_name": "Python 3 (ipykernel)",
   "language": "python",
   "name": "python3"
  },
  "language_info": {
   "codemirror_mode": {
    "name": "ipython",
    "version": 3
   },
   "file_extension": ".py",
   "mimetype": "text/x-python",
   "name": "python",
   "nbconvert_exporter": "python",
   "pygments_lexer": "ipython3",
   "version": "3.9.13"
  }
 },
 "nbformat": 4,
 "nbformat_minor": 5
}
