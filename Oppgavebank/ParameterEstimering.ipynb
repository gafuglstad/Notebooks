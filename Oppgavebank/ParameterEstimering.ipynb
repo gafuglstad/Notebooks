{
 "cells": [
  {
   "cell_type": "markdown",
   "id": "93851ba2",
   "metadata": {},
   "source": [
    "# Oppgave #\n",
    "I denne oppgaven skal vi bruke tre simulerte datasett:\n",
    "  - \"HeightSim.csv\" inneholder $n = 100$ høyder simulert fra en ukjent kontinuerlig fordeling.\n",
    "  - \"SurvSim.csv\" inneholder $n = 100$ levetider simulert fra en ukjent kontinuerlig fordeling.\n",
    "  - \"DiseaseSim.csv\" inneholder $n = 100$ antall sykdomstilfeller simulert fra en ukjent diskret fordeling."
   ]
  },
  {
   "cell_type": "markdown",
   "id": "c659f45f",
   "metadata": {},
   "source": [
    "---\n",
    "## a) ##\n",
    "Høydene i filen \"Data/HeightSim.csv\" er generert fra en ukjent kontinuerlig fordeling, men vi vet at verdiene ble simulert uavhengig av hverandre og at alle verdier ble simulert fra samme fordeling. La $X_1, X_2, \\ldots, X_n$ betegne de uavhengige og identisk fordelte stokastisk variablene.\n",
    "\n",
    "### a.1) ###\n",
    "  - Les inn datapunktene og lag et histogram av verdiene\n",
    "  - Regn ut gjennomsnitt, empirisk varians og empirisk standardavvik og skriv ut verdiene"
   ]
  },
  {
   "cell_type": "code",
   "execution_count": 19,
   "id": "866441fc",
   "metadata": {},
   "outputs": [],
   "source": [
    "import pandas as pd\n",
    "import matplotlib.pyplot as plt\n",
    "import math\n",
    "\n",
    "data = pd.read_csv(\"Data/HeightSim.csv\")\n",
    "\n",
    "# Lagre gjennomsnitt og empirisk varians i disse variablene\n",
    "# avgVal = \n",
    "# empVar = \n",
    "# sdVar = \n",
    "\n",
    "# print(\"Gjennomsnitt:\", avgVal)\n",
    "# print(\"Empirisk varians:\", empVar)\n",
    "# print(\"Empirisk standardavvik:\", sdVar)"
   ]
  },
  {
   "cell_type": "markdown",
   "id": "bc34b750",
   "metadata": {},
   "source": [
    "Vi antar at fordeling til $X_1, \\ldots, X_n$ har en forventningsverdi $\\mu$ og varians $\\sigma^2$.\n",
    "Vi foreslår estimatoren $\\hat{M} = \\frac{1}{n}\\sum_{i = 1}^{100}X_i$ (gjennomsnitt) for $\\mu$ og estimatoren $S^2 = \\frac{1}{n-1}\\sum_{i = 1}^{100}(X_i-\\hat{M})^2$ (empirisk varians) for $\\sigma^2$.\n",
    "\n",
    "### a.2) ###\n",
    "Vis at $M$ og $S^2$ er forventningsrette estimatorer.\n",
    "\n",
    "### a.3) ###\n",
    "Argumenter ved sentralgrenseteoremet at $\\hat{M}$ er tilnærmet normalfordelt og bestem parameterene til normalfordelingen. Bruk dette til å utlede et 95% konfidensintervall for $\\mu$, uttrykt ved $\\hat{\\mu}$ og $s^2$.\n",
    "\n",
    "### a.4) ###\n",
    "Regn ut konfidensintervallet og vurder om det virker rimelig basert på undersøkelsene du gjorde i **a.1)**."
   ]
  },
  {
   "cell_type": "code",
   "execution_count": null,
   "id": "1d11e7c1",
   "metadata": {},
   "outputs": [],
   "source": [
    "from scipy.stats import normal\n",
    "\n",
    "# Hint: Bruk tabell eller normal.ppf(q, loc=0, scale=1) for percentiler av normalfordelingen.\n"
   ]
  },
  {
   "cell_type": "markdown",
   "id": "f25be81d",
   "metadata": {},
   "source": [
    "---\n",
    "## b) ##\n",
    "Antall sykdomstilfeller i filen \"Data/DiseaseSim.csv\" er generert fra en ukjent diskret fordeling, men vi vet at verdiene ble simulert uavhengig av hverandre og at alle verdier ble simulert fra samme fordeling. Dere kan tenke på dette som sykdomstilfeller på ulike dager for eksempel. La $X_1, X_2, \\ldots, X_n$ betegne de uavhengige og identisk fordelte stokastisk variablene.\n",
    "\n",
    "### b.1) ###\n",
    "  - Les inn datapunktene og lag et søylediagram av frekvensen av hver av de observerte verdiene.\n",
    "  - Regn ut gjennomsnitt, empirisk varians og empirisk standardavvik og skriv ut verdiene"
   ]
  },
  {
   "cell_type": "code",
   "execution_count": 55,
   "id": "049bb712",
   "metadata": {},
   "outputs": [],
   "source": [
    "import pandas as pd\n",
    "import matplotlib.pyplot as plt\n",
    "import math\n",
    "import numpy as np\n",
    "\n",
    "data = pd.read_csv(\"Data/DiseaseSim.csv\")\n",
    "\n",
    "# Lagre gjennomsnitt og empirisk varians i disse variablene\n",
    "# avgVal = \n",
    "# empVar = \n",
    "# sdVar = \n",
    "\n",
    "# print(\"Gjennomsnitt:\", avgVal)\n",
    "# print(\"Empirisk varians:\", empVar)\n",
    "# print(\"Empirisk standardavvik:\", sdVar)"
   ]
  },
  {
   "cell_type": "markdown",
   "id": "8797268b",
   "metadata": {},
   "source": [
    "Vi antar at fordeling til $X_1, \\ldots, X_n$ har en forventningsverdi $\\mu$ og varians $\\sigma^2$.\n",
    "Vi foreslår estimatoren $\\hat{M} = \\frac{1}{n}\\sum_{i = 1}^{100}X_i$ (gjennomsnitt) for $\\mu$ og estimatoren $S^2 = \\frac{1}{n-1}\\sum_{i = 1}^{100}(X_i-\\hat{M})^2$ (empirisk varians) for $\\sigma^2$.\n",
    "\n",
    "### b.2) ###\n",
    "Vis at $M$ og $S^2$ er forventningsrette estimatorer.\n",
    "\n",
    "### b.3) ###\n",
    "Argumenter ved sentralgrenseteoremet at $\\hat{M}$ er tilnærmet normalfordelt og bestem parameterene til normalfordelingen. Bruk dette til å utlede et 95% konfidensintervall for $\\mu$, uttrykt ved $\\hat{\\mu}$ og $s^2$.\n",
    "\n",
    "### b.4) ###\n",
    "Regn ut konfidensintervallet og vurder om det virker rimelig basert på undersøkelsene du gjorde i **b.1)**."
   ]
  },
  {
   "cell_type": "code",
   "execution_count": null,
   "id": "b61fccb1",
   "metadata": {},
   "outputs": [],
   "source": [
    "from scipy.stats import norm\n",
    "\n",
    "# Hint: Bruk tabell eller normal.ppf(q, loc=0, scale=1) for percentiler av normalfordelingen.\n"
   ]
  },
  {
   "cell_type": "markdown",
   "id": "7752a7fb",
   "metadata": {},
   "source": [
    "---\n",
    "## c) ##\n",
    "Levetidene i filen \"Data/SurvSim.csv\" er generert fra en ukjent kontinuerlig fordeling, men vi vet at verdiene ble simulert uavhengig av hverandre og at alle verdier ble simulert fra samme fordeling. La $X_1, X_2, \\ldots, X_n$ betegne de uavhengige og identisk fordelte stokastisk variablene. Anta at enheten på verdiene er timer.\n",
    "\n",
    "### c.1) ###\n",
    "  - Les inn datapunktene og lag et histogram av verdiene\n",
    "  - Regn ut gjennomsnitt, empirisk varians og empirisk standardavvik og skriv ut verdiene\n",
    "  - Virker det rimelig å anta at disse verdiene er trukket fra en normalfordeling?"
   ]
  },
  {
   "cell_type": "code",
   "execution_count": 62,
   "id": "c064d14b",
   "metadata": {},
   "outputs": [],
   "source": [
    "import pandas as pd\n",
    "import matplotlib.pyplot as plt\n",
    "import math\n",
    "\n",
    "data = pd.read_csv(\"Data/SurvSim.csv\")\n",
    "\n",
    "# Lagre gjennomsnitt og empirisk varians i disse variablene\n",
    "# avgVal = \n",
    "# empVar = \n",
    "# sdVar = \n",
    "\n",
    "# print(\"Gjennomsnitt:\", avgVal)\n",
    "# print(\"Empirisk varians:\", empVar)\n",
    "# print(\"Empirisk standardavvik:\", sdVar)"
   ]
  },
  {
   "cell_type": "markdown",
   "id": "30ed8515",
   "metadata": {},
   "source": [
    "### c.2) ###\n",
    "Anta at vi gjetter på at verdiene er trukket fra en eksponentialfordeling med parameter $\\beta$. \n",
    "\n",
    "  - Utled sannsynlighetsmaksimeringsestimatoren og vis at den er gitt ved\n",
    "    $$ \\hat{B} = \\frac{1}{n}\\sum_{i = 1}^{100}X_i.$$\n",
    "  - Regn ut estimatet $\\hat{\\beta}$ av $\\beta$ og plott den estimerte sannsynlighetstettheten sammen med histogrammet.\n",
    "  - Vurder om figuren deg grunn til å tvile på antagelsen om at verdiene er trukket fra en eksponentialfordeling."
   ]
  },
  {
   "cell_type": "code",
   "execution_count": 70,
   "id": "2c16bf56",
   "metadata": {},
   "outputs": [],
   "source": [
    "from scipy.stats import expon\n",
    "\n",
    "# Kode her"
   ]
  },
  {
   "cell_type": "markdown",
   "id": "4087e444",
   "metadata": {},
   "source": [
    "### c.3) ###\n",
    "La $\\bar{X} = \\frac{1}{n}\\sum_{i = 1}^n$ og $S^2 = \\frac{1}{n-1}\\sum_{i = 1}^n (X_i-\\bar{X})^2$, og la $z_{0.025}$ være vedien slik at $\\mathrm{P}(Z > z_{0.025}) = 0.975$ hvis $Z$ er standardnormalfordelt. To mulige konfidensintervaller er\n",
    "  - 1. $(\\bar{x}-z_{0.025}s/\\sqrt{n}, \\bar{x}+z_{0.025}s/\\sqrt{n})$\n",
    "  - 2. $(\\bar{x}-z_{0.025}\\bar{x}/\\sqrt{n}, \\bar{x}+z_{0.025}\\bar{x}/\\sqrt{n})$\n",
    "\n",
    "Svar på følgende:\n",
    "  - Hvilke av de to konfidensintervallene har tilnærmet 95% konfidensnivå **uten antagelsen** om at vi trekker fra en eksponentialfordeling?\n",
    "  - Hvilke av de to konfidensintervallene har tilnærmet 95% konfidensnivå **med antagelsen** om at vi trekker fra en eksponentialfordeling?\n",
    "  - Regn ut begge konfidensintervaller og vurder om det er betydelige forskjeller."
   ]
  },
  {
   "cell_type": "code",
   "execution_count": 81,
   "id": "877b16bc",
   "metadata": {},
   "outputs": [],
   "source": [
    "from scipy.stats import norm\n",
    "\n",
    "# Kode her"
   ]
  },
  {
   "cell_type": "markdown",
   "id": "f55522c5",
   "metadata": {},
   "source": [
    "---\n",
    "## d) ##\n",
    "Antall sykdomstilfeller i filen \"Data/DiseaseSim.csv\" er generert fra en ukjent diskret fordeling, men vi vet at verdiene ble simulert uavhengig av hverandre og at alle verdier ble simulert fra samme fordeling. Dere kan tenke på dette som sykdomstilfeller på ulike dager for eksempel. La $X_1, X_2, \\ldots, X_n$ betegne de uavhengige og identisk fordelte stokastisk variablene.\n",
    "\n",
    "Vi ønsker å bestemme sannsynligheten for at det er fire eller flere sykdomstilfeller, og introduserer nye stokastiske variabler\n",
    "$$\n",
    "    Y_i = \\begin{cases}0, & X_i \\leq 3, \\\\ 1, & X_i > 3.\\end{cases}\n",
    "$$\n",
    "\n",
    "## d.1) ##\n",
    "Forklar hvorfor $Y_i$, $i = 1,\\ldots, 100$, er uavhengige og identisk fordelte bernoullivariabler med parameter $p = \\mathrm{P}(X_i > 3)$, og utled sannsynlighetsmaksimeringsestimatoren for $p$.\n",
    "\n",
    "## d.2) ##\n",
    "Utled et tilnærmet 95% konfidensintervall for $p$ og regn ut intervallet for det observerte datasettet."
   ]
  },
  {
   "cell_type": "code",
   "execution_count": 82,
   "id": "8ed70e75",
   "metadata": {},
   "outputs": [],
   "source": [
    "# Kode her"
   ]
  }
 ],
 "metadata": {
  "kernelspec": {
   "display_name": "Python 3 (ipykernel)",
   "language": "python",
   "name": "python3"
  },
  "language_info": {
   "codemirror_mode": {
    "name": "ipython",
    "version": 3
   },
   "file_extension": ".py",
   "mimetype": "text/x-python",
   "name": "python",
   "nbconvert_exporter": "python",
   "pygments_lexer": "ipython3",
   "version": "3.9.13"
  }
 },
 "nbformat": 4,
 "nbformat_minor": 5
}
