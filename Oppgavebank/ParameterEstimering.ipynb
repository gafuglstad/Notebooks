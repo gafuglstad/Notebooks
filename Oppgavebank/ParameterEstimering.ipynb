{
 "cells": [
  {
   "cell_type": "markdown",
   "id": "c9fef1c0",
   "metadata": {},
   "source": [
    "# Oppgave #"
   ]
  },
  {
   "cell_type": "markdown",
   "id": "5ffb8b2b",
   "metadata": {},
   "source": [
    "---\n",
    "## a) ##\n",
    "I denne oppgaven skal vi bruke tre simulerte datasett:\n",
    "  - \"HeightSim.csv\" inneholder $n = 100$ høyder simulert fra en ukjent kontinuerlig fordeling.\n",
    "  - \"SurvSim.csv\" inneholder $n = 100$ levetider simulert fra en ukjent kontinuerlig fordeling.\n",
    "  - \"DiseaseSim.csv\" inneholder $n = 100$ antall sykdomstilfeller simulert fra en ukjent diskret fordeling.\n",
    "\n",
    "For alle datasettene er verdiene simulert uavhengig av hverandre. Målet i denne oppgaven er å bestemme fordelingen og parameterne i fordelingen. Fordelingene er blant de viktige diskrete og kontinuerlige fordelingene.\n",
    "\n",
    "### a.1) ###"
   ]
  },
  {
   "cell_type": "code",
   "execution_count": 2,
   "id": "eef3cd86",
   "metadata": {},
   "outputs": [
    {
     "name": "stdout",
     "output_type": "stream",
     "text": [
      "         height\n",
      "1    180.848444\n",
      "2    193.070672\n",
      "3    181.333998\n",
      "4    183.511959\n",
      "5    171.785392\n",
      "..          ...\n",
      "96   182.826535\n",
      "97   183.334466\n",
      "98   183.935301\n",
      "99   179.612121\n",
      "100  178.792581\n",
      "\n",
      "[100 rows x 1 columns]\n"
     ]
    }
   ],
   "source": [
    "import pandas as pd\n",
    "\n",
    "data = pd.read_csv(\"Data/HeightSim.csv\")\n",
    "\n",
    "print(data)"
   ]
  }
 ],
 "metadata": {
  "kernelspec": {
   "display_name": "Python 3 (ipykernel)",
   "language": "python",
   "name": "python3"
  },
  "language_info": {
   "codemirror_mode": {
    "name": "ipython",
    "version": 3
   },
   "file_extension": ".py",
   "mimetype": "text/x-python",
   "name": "python",
   "nbconvert_exporter": "python",
   "pygments_lexer": "ipython3",
   "version": "3.9.13"
  }
 },
 "nbformat": 4,
 "nbformat_minor": 5
}
