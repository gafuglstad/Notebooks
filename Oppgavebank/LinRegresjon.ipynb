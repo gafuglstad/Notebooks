{
 "cells": [
  {
   "cell_type": "markdown",
   "id": "38c9515f",
   "metadata": {},
   "source": [
    "# Oppgave #\n",
    "\n",
    "---\n",
    "## a) ##\n",
    "### a.1) ###\n",
    "Filen \"Data/SimReg.csv\" inneholder $n = 12$ rader som svarer til målinger av $y_i$ for tilhørende verdi $x_i$, $i = 1,\\ldots, n$. Gjør følgende:\n",
    "  - Les inn datapunktene og lag et kryssplot av $(x_i,y_i)$.\n",
    "  - Virker det å være en lineær sammenheng mellom $y$ og $x$?"
   ]
  },
  {
   "cell_type": "code",
   "execution_count": 2,
   "id": "874d3a8e",
   "metadata": {},
   "outputs": [],
   "source": [
    "import pandas as pd\n",
    "\n",
    "data = pd.read_csv(\"Data/SimReg.csv\")\n",
    "\n",
    "# Kode her"
   ]
  },
  {
   "cell_type": "markdown",
   "id": "8a122dbf",
   "metadata": {},
   "source": [
    "---\n",
    "Den vanligste regresjonsmodellen antar\n",
    "$$ Y_i = \\beta_0 + \\beta x_i + \\epsilon_i, \\quad i =1, 2,\\ldots, n,$$\n",
    "der $\\beta_0$ og $\\beta_1$ er ukjente regresjonskoeffisenter, og $\\epsilon_1, \\ldots, \\epsilon_{12} \\overset{\\mathrm{iid}}{\\sim}\\mathcal{N}(0, \\sigma^2)$ for residualvarians $\\sigma^2 > 0$.\n",
    "\n",
    "---\n",
    "### a.2) ###\n",
    "Beskriv hvilke antagelser som er gjort i regresjonsmodellen og vurder om\n",
    "plottet i **a)** grunn til å tvile på disse antagelsene. Forklar hvordan du tenker når du vurderer hver av antagelsene.\n",
    "\n",
    "---\n",
    "La $\\bar{x} = \\sum_{i=1}^{n}x_i/n$ og $\\bar{Y} = \\sum_{i = 1}^n Y_i/n$. Det er kjent at minste kvadratssumestimatorene for regresjonsmodellen er\n",
    "$$ B_1 = \\frac{\\sum_{i = 1}^n(x_i-\\bar{x})Y_i}{\\sum_{i = 1}^{n}(x_i-\\bar{x})^2}$$\n",
    "for $\\beta_1$, og\n",
    "$$B_0 = \\bar{Y}-B_1 \\bar{x}$$\n",
    "for $\\beta_0$.\n",
    "\n",
    "---\n",
    "### a.3) ###\n",
    "Regn ut estimerte koeffisienter $\\hat{\\beta}_0$ og $\\hat{\\beta}_1$ og tegn den estimerte regresjonslinjen inn i kryssplottet fra **a)**. Virker den estimerte linjen rimelig?"
   ]
  },
  {
   "cell_type": "code",
   "execution_count": 3,
   "id": "097a726c",
   "metadata": {},
   "outputs": [],
   "source": [
    "# Kode her"
   ]
  },
  {
   "cell_type": "markdown",
   "id": "1aba85fb",
   "metadata": {},
   "source": [
    "---\n",
    "### a.4) ###\n",
    "Utled et 95% kofidensintervall for $\\beta_0$ basert på $B_0$, og regn ut kofidensintervallet for datapunktene i denne oppgaven. Er det grunnlag for å anta at $\\beta_0$ er ulik 0?"
   ]
  },
  {
   "cell_type": "markdown",
   "id": "6adaa952",
   "metadata": {},
   "source": [
    "---\n",
    "## b) ##\n",
    "Anta at vi for $x_i = i$ måler $y_i$, $i = 1, \\ldots, n$. Vi antar den vanlige lineære regresjonsmodellen\n",
    "$$ Y_i = \\beta_0 + \\beta x_i + \\epsilon_i, \\quad i =1, 2,\\ldots, n,$$\n",
    "der $\\beta_0$ og $\\beta_1$ er ukjente regresjonskoeffisenter, og $\\epsilon_1, \\ldots, \\epsilon_{12} \\overset{\\mathrm{iid}}{\\sim}\\mathcal{N}(0, \\sigma^2)$ for residualvarians $\\sigma^2 > 0$.\n",
    "\n",
    "Minste kvadratsumestimatoren til $\\beta_1$ er\n",
    "$$ B_1 = \\frac{\\sum_{i = 1}^n(x_i-\\bar{x})Y_i}{\\sum_{i = 1}^{n}(x_i-\\bar{x})^2}.$$\n",
    "Under antagelsene i regresjonsmodellen er $B_1 \\sim \\mathcal{N}(\\beta_1, \\sigma^2/S_{xx})$ der $S_{xx} = \\sum_{i = 1}^n(x_i-\\bar{x})^2$ for $\\bar{x} = \\sum_{i = 1}^n x_i/n$.\n",
    "\n",
    "Anta i denne oppgaven at $\\beta_0 = 0$, $\\beta_1 = 2$ og $\\sigma = 1$. \n",
    "\n",
    "### b.1) ###\n",
    "Vi ønsker å utforske hvor viktig antagelsen om normafordelte residualer er i regresjonsmodellen. Anta i stedet at $\\epsilon_1, \\ldots, \\epsilon_n$ er uavengige stokastiske variabler fra sannsynlighetstettheten $f(\\epsilon) = \\sqrt{2}\\exp(-\\sqrt{2}|\\epsilon|)$, $-\\infty< \\epsilon < \\infty$. Dere kan anta som kjent at denne fordelingen har forventningsverdi 0 og varians 1.\n",
    "\n",
    "Gjør følgende:\n",
    "  - Skriv kode for å simulere $n = 100$ dataverdier og regne ut $\\hat{\\beta}_1$.\n",
    "  - Kjør denne koden 10000 ganger for å finne 10000 realiseringer av $B_1$.\n",
    "  - Lag et histogram og tegn sannsynlighetstettheten til $\\mathcal{N}(\\beta_1, \\sigma^2/S_{xx})$ i samme figur.\n",
    "  - Vurder om fordelingen til $B_1$ virker å være betydelig påvirket av at antagelsen om normalfordeling er brutt.\n",
    "  - Lag histogram også for færre datapunkter, $n = 10$. Hva skjer nå?\n",
    "  \n",
    "*Hint: $f(\\epsilon) = \\sqrt{2}\\exp(-\\sqrt{2}|\\epsilon|)$, $-\\infty< \\epsilon < \\infty$, er en dobbel eksponentialfordeling og kan simuleres ved først å simulere $Z$ fra en eksponentialfordeling med parameter 1 og så velge fortegn $+$ med sannysynlighet $0.5$ og fortegn $-$ med sannsynlighet $0.5$*"
   ]
  },
  {
   "cell_type": "code",
   "execution_count": null,
   "id": "d9a0cfd3",
   "metadata": {},
   "outputs": [],
   "source": [
    "# Kode her"
   ]
  },
  {
   "cell_type": "markdown",
   "id": "a8fbcfb9",
   "metadata": {},
   "source": [
    "---\n",
    "### b.2) ###\n",
    "Basert på **b.1)** er det rimelig å tro at et 95% konfidensintervall for $\\beta_1$ regnet ut under antagelsen om normalfordelingen på residualene vil være omtrent riktig selv om fordelingen til residualene er noe annet. Anta vi nå ønsker et prediksjonsintervall for en ny observasjon ved $x^*$. Er det rimelig å konstruere dette basert på "
   ]
  }
 ],
 "metadata": {
  "kernelspec": {
   "display_name": "Python 3 (ipykernel)",
   "language": "python",
   "name": "python3"
  },
  "language_info": {
   "codemirror_mode": {
    "name": "ipython",
    "version": 3
   },
   "file_extension": ".py",
   "mimetype": "text/x-python",
   "name": "python",
   "nbconvert_exporter": "python",
   "pygments_lexer": "ipython3",
   "version": "3.9.13"
  }
 },
 "nbformat": 4,
 "nbformat_minor": 5
}
