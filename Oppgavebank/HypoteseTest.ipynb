{
 "cells": [
  {
   "cell_type": "markdown",
   "id": "078f33b9",
   "metadata": {},
   "source": [
    "# Oppgave #\n",
    "I denne oppgaven skal vi bruke fire simulerte datasett:\n",
    "  - \"HeightSim.csv\" inneholder $n = 100$ høyder simulert fra en ukjent kontinuerlig fordeling.\n",
    "  - \"SurvSim.csv\" inneholder $n = 100$ levetider simulert fra en ukjent kontinuerlig fordeling.\n",
    "  - \"DiseaseSim.csv\" inneholder $n = 100$ antall sykdomstilfeller simulert fra en ukjent diskret fordeling.\n",
    "  - \"DrugTrial.csv\" inneholder $n = 123$ patienter som tilfeldig har blitt tilordnet medisin 1 eller medisin 2, og man har registrert om medisinen var effektiv eller ikke."
   ]
  },
  {
   "cell_type": "markdown",
   "id": "f4216082",
   "metadata": {},
   "source": [
    "---\n",
    "## a) ##\n",
    "De $n = 123$ radene i \"DrugTrial.csv\" inneholder tre kolonner: \n",
    "  - `id` er en unik pasientidentifikasjon ($\\{1, 2,\\ldots, 123\\}$), \n",
    "  - `drug` er hvilken medisin pasienten ble gitt ($\\{1, 2\\}$), og \n",
    "  - `effective` beskriver om medisinen var effektiv (1) eller ikke effektiv (0).\n",
    "\n",
    "Medisin 1 er gammel medisin og medisin 2 er den foreslåtte nye medisinen.\n",
    "\n",
    "---\n",
    "### a.1) ###\n",
    "   - Les inn datapunktene og regn ut følgende størrelser:\n",
    "     - $n_1$: antall pasienter som fikk medisin 1\n",
    "     - $y_1$: antall pasienter der medisin 1 var effektiv\n",
    "     - $n_2$: antall pasienter som fikk medisin 2\n",
    "     - $y_2$: antall pasienter der medisin 2 var effektiv\n",
    "   - Regn ut andel pasienter der medisin 1 var effektiv blant de som fikk medisin 1, og andel pasienter der medisin 2 var effektiv blant de som fikk medisin 2. Virker det som den nye medisinen er mer effektiv enn den gamle?"
   ]
  },
  {
   "cell_type": "code",
   "execution_count": 10,
   "id": "fca50af7",
   "metadata": {
    "scrolled": true
   },
   "outputs": [],
   "source": [
    "import pandas as pd\n",
    "\n",
    "data = pd.read_csv(\"Data/DrugTrial.csv\")\n",
    "\n",
    "# Kode her"
   ]
  },
  {
   "cell_type": "markdown",
   "id": "c56bf1b9",
   "metadata": {},
   "source": [
    "---\n",
    "### a.2) ###\n",
    "Vi ønsker å tallfeste rigorøst hvor sterke bevis vi har for at ny medisin er bedre enn gammel medisin. La $\\hat{P}_1 = Y_1/n_1$, der $Y_1$ er den stokastiske variabelen som betegner antall pasienter der medisin 1 var effektiv, og $\\hat{P}_2 = Y_2/n_2$, der $Y_2$ er den stokastiske variabelen som betegner antall pasienter der medisin 1 var effektiv. Merk at $Y_1$ og $Y_2$ er stokastiske fordi vi tenker oss gjentatte forsøk der $n_1$ og $n_2$ er fikserte.\n",
    "Svar på følgende:\n",
    "  - Hvilke antagelser må vi gjøre for at 1) $Y_1$ skal være binomisk fordelt med suksessannsynlighet $p_1$, 2) $Y_2$ skal være binomisk fordelt med suksessannsynlighet $p_2$, og 3) $Y_1$ og $Y_2$ skal være uavhengige?\n",
    "  - Vi ønsker å bruke testobservatoren $X = \\hat{P}_1-\\hat{P_2}$. Formuler nullhypotese $H_0$ og alternativ hypotese $H_1$, ved bruk av $X$, med formål å vise at ny medisin er bedre enn gammel medisin.\n",
    "  \n",
    "---\n",
    "### a.3) ###\n",
    "Vi ønsker å regne ut p-verdi for hypotesetesten basert på datapunktene som er samlet inn. I denne deloppgaven bestemmer vi oss for å anta at en normaltilnærming til $X$ tilstrekkelig god for å utføre testen. Svar på følgende:\n",
    "   - Regn ut forventningsverdien til $X$ under $H_0$.\n",
    "   - Regn ut tilnærmet varians til $X$ under $H_0$ basert på de observerte verdiene.\n",
    "   - Regn ut p-verdien til hypotesetesten med normaltilnærmingen til $X$ og hypotesetesten du bestemte i ### a.3) ###\n",
    "   - Hva ville du konkludert basert på p-verdien?\n",
    "\n",
    "---\n",
    "### a.4) ###\n",
    "En alternativ fremgangsmåte som ikke krever like mange antagelser er en permutasjonstest. Du skal utføre permutasjonstesten ved å gjøre gjentatte tilfeldige permuteringer av tilhørigheten til medisin 1 og medisin 2 for pasientene. Under gjentatte tilfeldige permutasjoner er $X$ en stokastisk variabel hvis fordeling ikke er den samme som i **a.2)**. Bruk Python til å estimere ut p-verdien ved $\\mathrm{P}(X \\geq \\hat{x})$."
   ]
  },
  {
   "cell_type": "code",
   "execution_count": null,
   "id": "44163662",
   "metadata": {},
   "outputs": [],
   "source": [
    "# Kode her"
   ]
  }
 ],
 "metadata": {
  "kernelspec": {
   "display_name": "Python 3 (ipykernel)",
   "language": "python",
   "name": "python3"
  },
  "language_info": {
   "codemirror_mode": {
    "name": "ipython",
    "version": 3
   },
   "file_extension": ".py",
   "mimetype": "text/x-python",
   "name": "python",
   "nbconvert_exporter": "python",
   "pygments_lexer": "ipython3",
   "version": "3.9.13"
  }
 },
 "nbformat": 4,
 "nbformat_minor": 5
}
