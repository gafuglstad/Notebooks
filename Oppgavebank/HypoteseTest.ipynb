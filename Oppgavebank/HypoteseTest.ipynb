{
 "cells": [
  {
   "cell_type": "markdown",
   "id": "078f33b9",
   "metadata": {},
   "source": [
    "# Oppgave #\n",
    "I denne oppgaven skal vi bruke tre simulerte datasett:\n",
    "  - \"HeightSim.csv\" inneholder $n = 100$ høyder simulert fra en ukjent kontinuerlig fordeling.\n",
    "  - \"SurvSim.csv\" inneholder $n = 100$ levetider simulert fra en ukjent kontinuerlig fordeling.\n",
    "  - \"DiseaseSim.csv\" inneholder $n = 100$ antall sykdomstilfeller simulert fra en ukjent diskret fordeling."
   ]
  },
  {
   "cell_type": "markdown",
   "id": "f4216082",
   "metadata": {},
   "source": [
    "---\n",
    "## a) ##\n"
   ]
  }
 ],
 "metadata": {
  "kernelspec": {
   "display_name": "Python 3 (ipykernel)",
   "language": "python",
   "name": "python3"
  },
  "language_info": {
   "codemirror_mode": {
    "name": "ipython",
    "version": 3
   },
   "file_extension": ".py",
   "mimetype": "text/x-python",
   "name": "python",
   "nbconvert_exporter": "python",
   "pygments_lexer": "ipython3",
   "version": "3.9.13"
  }
 },
 "nbformat": 4,
 "nbformat_minor": 5
}
