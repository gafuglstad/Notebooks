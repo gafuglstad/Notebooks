{
 "cells": [
  {
   "cell_type": "markdown",
   "id": "27bce110",
   "metadata": {},
   "source": [
    "# Oppgave #\n",
    "I denne oppgaven skal vi jobbe med fire viktige kontinuerlige fordelinger: normalfordelingen, gammafordelingen, og t-fordelingen. Kjente kontinuerlige fordelinger har som regel innebygde funksjoner for simulering, og i denne oppgaven kan du bruke disse. Se dokumentasjonen til disse funksjonene fra `numpy`:\n",
    "- `random.normal(loc=0.0, scale=1.0, size=None)`\n",
    "- `random.gamma(shape, scale=1.0, size=None)`\n",
    "- `random.standard_t(df, size=None)`\n",
    "\n",
    "I tillegg er det funksjoner for å regne ut punktsannsynligheter og kumulative fordelinger i `scipy`:\n",
    "- `stats.norm.pdf(x, loc=0, scale=1)` og `stats.norm.cdf(x, loc=0, scale=1)`\n",
    "- `stats.gamma.pdf(x, a, loc=0, scale=1)` og `stats.gamma.cdf(x, a, loc=0, scale=1)`\n",
    "- `stats.t.pdf(x, df, loc=0, scale=1)` og `stats.t.cdf(x, df, loc=0, scale=1)`"
   ]
  },
  {
   "cell_type": "markdown",
   "id": "6f605557",
   "metadata": {},
   "source": [
    "---\n",
    "## a) ##\n",
    "Les dokumentasjonen for `random.gamma`, `stats.gamma.pdf` og `stats.gamma.cdf`, og forklar hvordan disse funksjonene kan brukes for å simulere fra 1) en eksponentialfordeling med skaleringsparameter $\\beta$, og 2) en kjikvadratfordeling med $\\nu$ frihetsgrader."
   ]
  },
  {
   "cell_type": "markdown",
   "id": "465e70d8",
   "metadata": {},
   "source": [
    "--- \n",
    "## b) ##\n",
    "La $X$ være en normalfordelt stokastisk variabel med forventningsverdi 0 og varians 1, og la $Y_n$ være en t-fordelt stokastisk variabel med $n$ frihetsgrader for $n = 1, 10, 100$. Plott sannsynlighetstetthetene til de fire stokastiske variablene i samme figur. Pass på fornuftig akser og tydelig merking av hvilken linje og fordeling som hører sammen. Forklar det du ser med utgangspunkt i definisjonen av t-fordelingen."
   ]
  },
  {
   "cell_type": "code",
   "execution_count": null,
   "id": "25c2e58b",
   "metadata": {},
   "outputs": [],
   "source": [
    "from scipy.stats import normal\n",
    "from scipy.stats import standard_t\n",
    "import matplotlib.pyplot as plt\n",
    "\n",
    "# Kode her"
   ]
  },
  {
   "cell_type": "markdown",
   "id": "88437990",
   "metadata": {},
   "source": [
    "--- \n",
    "## c) ##\n",
    "La $Z$ være en standardnormalfordelt stokastisk variabel og $T_3$ være en t-fordelt stokastisk variabel med 3 frihetsgrader. Du kan anta kjent at $\\mathrm{E}[Z] = \\mathrm{E}[T_3] = 0$ og $\\mathrm{Var}[Z] = \\mathrm{Var}[T_3] = 1$. Gjør følgende\n",
    "  - Plott sannsynlighetstetthetene sammen i samme figur. Kommenter forskjellene du ser.\n",
    "  - "
   ]
  },
  {
   "cell_type": "code",
   "execution_count": null,
   "id": "c429b619",
   "metadata": {},
   "outputs": [],
   "source": []
  }
 ],
 "metadata": {
  "kernelspec": {
   "display_name": "Python 3 (ipykernel)",
   "language": "python",
   "name": "python3"
  },
  "language_info": {
   "codemirror_mode": {
    "name": "ipython",
    "version": 3
   },
   "file_extension": ".py",
   "mimetype": "text/x-python",
   "name": "python",
   "nbconvert_exporter": "python",
   "pygments_lexer": "ipython3",
   "version": "3.9.13"
  }
 },
 "nbformat": 4,
 "nbformat_minor": 5
}
