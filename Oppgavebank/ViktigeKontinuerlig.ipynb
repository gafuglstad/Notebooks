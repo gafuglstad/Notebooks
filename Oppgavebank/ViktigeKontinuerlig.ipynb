{
 "cells": [
  {
   "cell_type": "markdown",
   "id": "27bce110",
   "metadata": {},
   "source": [
    "# Oppgave #\n",
    "I denne oppgaven skal vi jobbe med fire viktige kontinuerlige fordelinger: normalfordelingen, gammafordelingen, og t-fordelingen. Kjente kontinuerlige fordelinger har som regel innebygde funksjoner for simulering, og i denne oppgaven kan du bruke disse. Se dokumentasjonen til disse funksjonene fra `numpy`:\n",
    "- `random.normal(loc=0.0, scale=1.0, size=None)`\n",
    "- `random.gamma(shape, scale=1.0, size=None)`\n",
    "- `random.standard_t(df, size=None)`\n",
    "\n",
    "I tillegg er det funksjoner for å regne ut punktsannsynligheter og kumulative fordelinger i `scipy`:\n",
    "- `stats.norm.pdf(x, loc=0, scale=1)` og `stats.norm.cdf(x, loc=0, scale=1)`\n",
    "- `stats.gamma.pdf(x, a, loc=0, scale=1)` og `stats.gamma.cdf(x, a, loc=0, scale=1)`\n",
    "- `stats.t.pdf(x, df, loc=0, scale=1)` og `stats.t.cdf(x, df, loc=0, scale=1)`"
   ]
  },
  {
   "cell_type": "markdown",
   "id": "6f605557",
   "metadata": {},
   "source": [
    "---\n",
    "## a) ##\n",
    "Les dokumentasjonen for `random.gamma`, `stats.gamma.pdf` og `stats.gamma.cdf`, og forklar hvordan disse funksjonene kan brukes for å simulere fra 1) en eksponentialfordeling med skaleringsparameter $\\beta$, og 2) en kjikvadratfordeling med $\\nu$ frihetsgrader."
   ]
  },
  {
   "cell_type": "markdown",
   "id": "465e70d8",
   "metadata": {},
   "source": [
    "--- \n",
    "## b) ##\n",
    "La $X$ være en normalfordelt stokastisk variabel med forventningsverdi 0 og varians 1, og la $Y_n$ være en t-fordelt stokastisk variabel med $n$ frihetsgrader for $n = 1, 10, 100$. Plott sannsynlighetstetthetene til de fire stokastiske variablene i samme figur. Pass på fornuftig akser og tydelig merking av hvilken linje og fordeling som hører sammen. Forklar det du ser med utgangspunkt i definisjonen av t-fordelingen."
   ]
  },
  {
   "cell_type": "code",
   "execution_count": null,
   "id": "25c2e58b",
   "metadata": {},
   "outputs": [],
   "source": [
    "from scipy.stats import normal\n",
    "from scipy.stats import standard_t\n",
    "import matplotlib.pyplot as plt\n",
    "\n",
    "# Kode her"
   ]
  },
  {
   "cell_type": "markdown",
   "id": "88437990",
   "metadata": {},
   "source": [
    "--- \n",
    "## c) ##\n",
    "La $X$ være en normalfordelt stokastisk variabel med forventningsverdi 100 og varians 20. Regn ut følgende størrelser både ved bruk av tabell og ved bruk av Python:\n",
    "  - $\\mathrm{P}(X > 105)$\n",
    "  - $\\mathrm{P}(105 < X < 110)$\n",
    "  - verdien $q$ slik at $\\mathrm{P}(X < q) = 0.65$."
   ]
  },
  {
   "cell_type": "code",
   "execution_count": null,
   "id": "c429b619",
   "metadata": {},
   "outputs": [],
   "source": [
    "from scipy.stats import normal\n",
    "\n",
    "# Kode her"
   ]
  },
  {
   "cell_type": "markdown",
   "id": "fa949f3e",
   "metadata": {},
   "source": [
    "--- \n",
    "## d) ##\n",
    "Anta at mengden regn på en regnværsdag i Trondheim kan beskrives ved en gammafordelt stokastisk variabel $X$. Vi måler mendgen regn i millimeter (mm), og i morgen vil gammafordelingen ha parametere $\\alpha = 3$ og $\\beta = 7$. Regn ut følgende størrelser ved bruk av Python:\n",
    "  - Sannsynligheten for mindre enn 5 mm regn i morgen.\n",
    "  - Sannsynligheten for mer enn 50 mm regn i morgen.\n",
    "  - Verdien $q$ slik at det er $95\\%$ sannsynlighet for mer enn $q$ mm regn."
   ]
  },
  {
   "cell_type": "markdown",
   "id": "9019f9dc",
   "metadata": {},
   "source": [
    "--- \n",
    "## e) ##\n",
    "Vi skal beskrive levetiden til en lyspære. Levetiden blir målt i timer. Vi ser på to mulige stokastiske variable $T_\\mathrm{N}$ med sannsynlighetstetthet\n",
    "$$\n",
    "   f(t_\\mathrm{N}) = \\begin{cases} \\frac{2}{\\sqrt{2\\pi}\\sigma}\\exp\\left(-\\frac{1}{2\\sigma^2}t_\\mathrm{N}^2\\right), &t_\\mathrm{N} > 0,\\\\\n",
    "   0,& t_\\mathrm{N} \\leq 0.\\end{cases}\n",
    "$$\n",
    "og $T_\\mathrm{E}$ med sannsynlighetstetthet\n",
    "$$\n",
    "   f(t_\\mathrm{E}) = \\begin{cases} \\frac{1}{\\beta}\\exp(-t_\\mathrm{E}/\\beta), &t_\\mathrm{E} > 0,\\\\\n",
    "   0,& t_\\mathrm{E} \\leq 0.\\end{cases}\n",
    "$$\n",
    "Fra sannsynlighetstetthetene ser man at $T_\\mathrm{N}$ beskriver en normalfordelt stokastisk variabel som er begrenset til å være positiv og $T_\\mathrm{E}$ er en eksponentialfordelt stokastisk variabel. Løs følgende oppgaver. Du står fritt til å bruke Python der det er hensiktsmessig.\n",
    "  - Basert på kunnskap om denne typen lyspærer har vi grunn til å tro at sannsynligheten for at levetiden overstiger 10000 timer er $95\\%$. Bestem $\\sigma^2$ og $\\beta$ slik at fordelingene har denne egenskapen.\n",
    "  - Vi ønsker å se på de to fordelingenes hukommelse og definerer $g(t) = \\mathrm{P}(T_\\mathrm{N} > 10000+t | T_\\mathrm{N} > t)$ og $h(t) = \\mathrm{P}(T_\\mathrm{E} > 10000+t | T_\\mathrm{E} > t)$ for $t \\geq 0$. Plott $g$ og $h$ i samme figur. \n",
    "  - Hvilken forskjellig antagelse gjør $T_\\mathrm{N}$ og $T_\\mathrm{E}$ om hva som skjer med lyspæren over tid?"
   ]
  },
  {
   "cell_type": "code",
   "execution_count": null,
   "id": "ba7a5901",
   "metadata": {},
   "outputs": [],
   "source": [
    "from scipy.stats import normal\n",
    "from scipy.stats import gamma\n",
    "\n",
    "# Kode her"
   ]
  },
  {
   "cell_type": "markdown",
   "id": "f649a0c4",
   "metadata": {},
   "source": [
    "--- \n",
    "## f) ##\n",
    "Anta at $X$ følger en kjivadratfordeling med $nu$ frihetsgrader. Vi vet at $\\mathrm{E}[X] = \\nu$. Beskriv en måte å tilnærme $\\nu$ med Monte Carlo simulering. Skriv kode som verifiserer at denne måten virker og bruk koden for $\\nu = 5$ frihetsgrader."
   ]
  },
  {
   "cell_type": "code",
   "execution_count": null,
   "id": "eeb0c3b6",
   "metadata": {},
   "outputs": [],
   "source": [
    "import numpy as np\n",
    "\n",
    "# Kode her"
   ]
  }
 ],
 "metadata": {
  "kernelspec": {
   "display_name": "Python 3 (ipykernel)",
   "language": "python",
   "name": "python3"
  },
  "language_info": {
   "codemirror_mode": {
    "name": "ipython",
    "version": 3
   },
   "file_extension": ".py",
   "mimetype": "text/x-python",
   "name": "python",
   "nbconvert_exporter": "python",
   "pygments_lexer": "ipython3",
   "version": "3.9.13"
  }
 },
 "nbformat": 4,
 "nbformat_minor": 5
}
