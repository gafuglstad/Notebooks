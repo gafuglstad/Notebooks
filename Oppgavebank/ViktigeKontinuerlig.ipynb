{
 "cells": [
  {
   "cell_type": "markdown",
   "id": "126cdd0f",
   "metadata": {},
   "source": [
    "# Oppgave #\n",
    "I denne oppgaven skal vi jobbe med tre viktige kontinuerlige fordelinger: normalfordelingen, eksponentialfordelingen, og t-fordelingen. Kjente kontinuerlige fordelinger har som regel innebygde funksjoner for simulering, og i denne oppgaven kan du bruke disse. Se dokumentasjonen til disse funksjonene fra `numpy`:\n",
    "- `random.normal(loc=0.0, scale=1.0, size=None)`\n",
    "- `random.exponential(scale=1.0, size=None)`\n",
    "- `random.standard_t(df, size=None)`\n",
    "\n",
    "I tillegg er det funksjoner for å regne ut punktsannsynligheter og kumulative fordelinger i `scipy`:\n",
    "- `stats.norm.pdf(x, loc=0, scale=1)` og `stats.norm.cdf(x, loc=0, scale=1)`\n",
    "- `stats.expon.pdf(x, loc=0, scale=1)` og `stats.expon.cdf(x, loc=0, scale=1)`\n",
    "- `stats.t.pdf(x, df, loc=0, scale=1)` og `stats.t.cdf(x, df, loc=0, scale=1)`"
   ]
  },
  {
   "cell_type": "markdown",
   "id": "c6784ce0",
   "metadata": {},
   "source": [
    "---\n",
    "## a) ##\n"
   ]
  }
 ],
 "metadata": {
  "kernelspec": {
   "display_name": "Python 3 (ipykernel)",
   "language": "python",
   "name": "python3"
  },
  "language_info": {
   "codemirror_mode": {
    "name": "ipython",
    "version": 3
   },
   "file_extension": ".py",
   "mimetype": "text/x-python",
   "name": "python",
   "nbconvert_exporter": "python",
   "pygments_lexer": "ipython3",
   "version": "3.9.13"
  }
 },
 "nbformat": 4,
 "nbformat_minor": 5
}
