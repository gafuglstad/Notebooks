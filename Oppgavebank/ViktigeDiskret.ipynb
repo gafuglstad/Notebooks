{
 "cells": [
  {
   "cell_type": "markdown",
   "id": "4bdcf71e",
   "metadata": {},
   "source": [
    "# Oppgave #\n",
    "I denne oppgaven skal vi jobbe med de tre viktige diskrete fordelingene: binomisk fordeling, poissonfordeling og geometrisk fordeling. De kjente diskrete fordelingene har som regel innebygde funksjoner for simulering, og i denne oppgaven kan du bruke disse. Se dokumentasjonen til disse funksjonene fra `numpy`:\n",
    "- `random.binomial(n, p, size = None)`\n",
    "- `random.poisson(lam = 1.0, size = None)`\n",
    "- `random.geometric(p, size = None)`\n",
    "\n",
    "I tillegg er det funksjoner for å regne ut punktsannsynligheter og kumulative fordelinger i `scipy`:\n",
    "- `stats.binom.pmf(x, n, p)` og `stats.binom.cdf(x, n, p)`\n",
    "- `stats.poisson.pmf(x, mu)` og `stats.poisson.cdf(x, mu)`\n",
    "- `stats.geom.pmf(x, p)` og `stats.geom.cdf(x, p)`"
   ]
  },
  {
   "cell_type": "markdown",
   "id": "617d2931",
   "metadata": {},
   "source": [
    "---\n",
    "De mest kjente størrelsene for å beskrive en fordeling er forventningsverdi $\\mu = \\mathrm{E}[X]$ og varians $\\sigma^2 = \\mathrm{Var}[X]$, men\n",
    "det finnest også momenter av høyere potens som har tolkning. For eksempel er\n",
    "$$\n",
    "\\gamma = \\mathrm{E}\\left[\\left(\\frac{X-\\mu}{\\sigma}\\right)^3\\right]\n",
    "$$\n",
    "et mål på skjevheten til en fordeling. Denne eksisterer for alle fordelinger hvor $\\mathrm{E}[|X|^3] < \\infty$ og sier noe om hvor usymmetrisk fordelingen er."
   ]
  },
  {
   "cell_type": "markdown",
   "id": "f930686a",
   "metadata": {},
   "source": [
    "---\n",
    "## a) ##\n",
    "Anta at $X$ følger en poissonfordeling med forventningsverdi $\\nu > 0$. Vis at $\\gamma = \\nu^{-1/2}$. (Sjekk om dette er lett eller vanskelig. Kan også bruke simulering)"
   ]
  },
  {
   "cell_type": "markdown",
   "id": "85299a36",
   "metadata": {},
   "source": [
    "---\n",
    "## b) ##\n",
    "\n",
    "I uttrykket over har vi at $\\gamma$ går mot null som en funksjon av $\\nu$. Verifiser at det gir mening ved å lage 3 barplots: 1) $\\nu = 1$, $\\nu = 10$ og $\\nu = 100$. Hva skjer med symmetriene når $\\nu$ øker?"
   ]
  },
  {
   "cell_type": "code",
   "execution_count": 10,
   "id": "3e2dd8ec",
   "metadata": {},
   "outputs": [
    {
     "data": {
      "text/plain": [
       "<Figure size 432x288 with 0 Axes>"
      ]
     },
     "execution_count": 10,
     "metadata": {},
     "output_type": "execute_result"
    },
    {
     "data": {
      "text/plain": [
       "<Figure size 432x288 with 0 Axes>"
      ]
     },
     "metadata": {},
     "output_type": "display_data"
    },
    {
     "data": {
      "text/plain": [
       "<Figure size 432x288 with 0 Axes>"
      ]
     },
     "metadata": {},
     "output_type": "display_data"
    },
    {
     "data": {
      "text/plain": [
       "<Figure size 432x288 with 0 Axes>"
      ]
     },
     "metadata": {},
     "output_type": "display_data"
    }
   ],
   "source": [
    "from scipy.stats import poisson\n",
    "import matplotlib.pyplot as plt\n",
    "\n",
    "plt.figure(0)\n",
    "# Skriv kode for nu = 1\n",
    "plt.figure(1)\n",
    "# Skriv kode for nu = 10\n",
    "plt.figure(2)\n",
    "# Skriv kode for nu = 100\n"
   ]
  }
 ],
 "metadata": {
  "kernelspec": {
   "display_name": "Python 3 (ipykernel)",
   "language": "python",
   "name": "python3"
  },
  "language_info": {
   "codemirror_mode": {
    "name": "ipython",
    "version": 3
   },
   "file_extension": ".py",
   "mimetype": "text/x-python",
   "name": "python",
   "nbconvert_exporter": "python",
   "pygments_lexer": "ipython3",
   "version": "3.9.13"
  }
 },
 "nbformat": 4,
 "nbformat_minor": 5
}
