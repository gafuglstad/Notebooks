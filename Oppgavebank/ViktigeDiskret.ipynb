{
 "cells": [
  {
   "cell_type": "markdown",
   "id": "826093ad",
   "metadata": {},
   "source": [
    "# Oppgave #\n",
    "I denne oppgaven skal vi jobbe med de tre viktige diskrete fordelingene: binomisk fordeling, poissonfordeling og geometrisk fordeling. De kjente diskrete fordelingene har som regel innebygde funksjoner for simulering, og i denne oppgaven kan du bruke disse. Se dokumentasjonen til disse funksjonene fra `numpy`:\n",
    "- `random.binomial(n, p, size = None)`\n",
    "- `random.poisson(lam = 1.0, size = None)`\n",
    "- `random.geometric(p, size = None)`"
   ]
  },
  {
   "cell_type": "markdown",
   "id": "cc0a0dee",
   "metadata": {},
   "source": [
    "---\n",
    "De mest kjente størrelsene for å beskrive en fordeling er $\\mu = \\mathrm{E}[X]$ og varians $\\sigma^2 = \\mathrm{Var}[X]$, men\n",
    "det finnest også momenter av høyere potens som har tolkning. For eksempel er\n",
    "$$\n",
    "\\gamma = \\mathrm{E}\\left[\\left(\\frac{X-\\mu}{\\sigma}\\right)^3\\right]\n",
    "$$\n",
    "et mål på skjevheten til en fordeling. Denne eksisterer for alle fordelinger hvor $\\mathrm{E}[|X|^3] < \\infty$."
   ]
  },
  {
   "cell_type": "markdown",
   "id": "6b47502a",
   "metadata": {},
   "source": [
    "---\n",
    "## a) ##\n",
    "Anta at $X$ følger en poissonfordeling med forventningsverdi $\\nu > 0$. Vis at $\\gamma = \\nu^{-1/2}$."
   ]
  },
  {
   "cell_type": "markdown",
   "id": "5d78d6d1",
   "metadata": {},
   "source": [
    "---\n",
    "b)\n"
   ]
  }
 ],
 "metadata": {
  "kernelspec": {
   "display_name": "Python 3 (ipykernel)",
   "language": "python",
   "name": "python3"
  },
  "language_info": {
   "codemirror_mode": {
    "name": "ipython",
    "version": 3
   },
   "file_extension": ".py",
   "mimetype": "text/x-python",
   "name": "python",
   "nbconvert_exporter": "python",
   "pygments_lexer": "ipython3",
   "version": "3.9.13"
  }
 },
 "nbformat": 4,
 "nbformat_minor": 5
}
