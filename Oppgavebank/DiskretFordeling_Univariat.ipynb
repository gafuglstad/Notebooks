{
 "cells": [
  {
   "cell_type": "markdown",
   "id": "63347567",
   "metadata": {},
   "source": [
    "# Oppgave #\n",
    "La $X$ være en diskret fordelt stokastisk variabel med utfallsrom $\\{-2, -1, 0, 1, 2\\}$. Punktsannsynlighetene for hvert utfall er gitt i følgende tabell.\n",
    "\n",
    "| $x$   | $-2$ | $-1$ | $0$ | $1$ | $2$ |\n",
    "|:-----:|:----:|:----:|:---:|:---:|:---:|\n",
    "| $p(x)$| $0.1$| $0.1$|$0.5$|$0.2$|$0.1$|"
   ]
  },
  {
   "cell_type": "markdown",
   "id": "709495de",
   "metadata": {},
   "source": [
    "---\n",
    "## a) ##\n",
    "Plott punktfordelingen til $X$ som et barplot.\n",
    "\n",
    "Hint: Du kan bruke `pyplot.bar(x, height, width=0.8)` fra `matplotlib.pyplot`."
   ]
  },
  {
   "cell_type": "code",
   "execution_count": 2,
   "id": "d6b85404",
   "metadata": {},
   "outputs": [],
   "source": [
    "import matplotlib.pyplot as plt\n",
    "\n",
    "# Write code here"
   ]
  },
  {
   "cell_type": "markdown",
   "id": "04c09ea0",
   "metadata": {},
   "source": [
    "--- \n",
    "## b) ##\n",
    "Regn ut forventningsverdien til $X$."
   ]
  },
  {
   "cell_type": "markdown",
   "id": "7983b672",
   "metadata": {},
   "source": [
    "--- \n",
    "## c) ##\n",
    "Bestem sannsynlighetene $\\mathrm{P}(X \\geq 0)$ og $\\mathrm{P}(X \\geq 0| X \\leq 1)$."
   ]
  },
  {
   "cell_type": "markdown",
   "id": "69f58172",
   "metadata": {},
   "source": [
    "--- \n",
    "## d) ##\n",
    "I denne oppgaven skal du estimere verdiene i b) og c) gjennom stokastisk simulering. Lag en funksjon `simuler_X()` som simulerer et vilkårlig antall verdi av $X$ og returnerer de simulerte verdiene. Bruk deretter denne funksjonen til å tilnærme $\\mathrm{E}[X]$, $\\mathrm{P}(X \\geq 0)$ og $\\mathrm{P}(X \\geq 0| X \\leq 1)$ ved å simulere 1000 verdier av $X$.\n",
    "\n",
    "Hint: Du kan bruke funksjonen `random.choice(a, size=None, replace=True, p=None)` fra `numpy`. Les dokumentasjonen for beskrivelse av funksjonen og argumentene. \n"
   ]
  },
  {
   "cell_type": "code",
   "execution_count": 1,
   "id": "b89b784a",
   "metadata": {},
   "outputs": [],
   "source": [
    "import numpy as np\n",
    "\n",
    "# Denne funksjonen skal returnere nSamples simulerte verdier av X\n",
    "def simuler_X(nSamples):\n",
    "    # Skriv kode her\n",
    "    return verdier"
   ]
  },
  {
   "cell_type": "code",
   "execution_count": 5,
   "id": "bf2c67b4",
   "metadata": {},
   "outputs": [],
   "source": [
    "# Tilnærm verdien ved bruk av simuler_X\n",
    "# Lagre verdiene som EX, P1 og P2, og skriv ut\n",
    "# print(\"E[X] er tilnærmet lik\", EX)\n",
    "# print(\"P(X >= 0) er tilnærmet lik\", P1)\n",
    "# print(\"P(X >= 0 | X <= 0) er tilnærmet lik\", P2)\n"
   ]
  }
 ],
 "metadata": {
  "kernelspec": {
   "display_name": "Python 3 (ipykernel)",
   "language": "python",
   "name": "python3"
  },
  "language_info": {
   "codemirror_mode": {
    "name": "ipython",
    "version": 3
   },
   "file_extension": ".py",
   "mimetype": "text/x-python",
   "name": "python",
   "nbconvert_exporter": "python",
   "pygments_lexer": "ipython3",
   "version": "3.9.13"
  }
 },
 "nbformat": 4,
 "nbformat_minor": 5
}
