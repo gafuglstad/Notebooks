{
 "cells": [
  {
   "cell_type": "markdown",
   "id": "63347567",
   "metadata": {},
   "source": [
    "# Oppgave 2 #\n",
    "La $X$ være en diskret fordelt stokastisk variabel med utfallsrom $\\{-2, -1, 0, 1, 2\\}$. Punktsannsynlighetene for hvert utfall er gitt i følgende tabell.\n",
    "\n",
    "| $x$   | $-2$ | $-1$ | $0$ | $1$ | $2$ |\n",
    "|:-----:|:----:|:----:|:---:|:---:|:---:|\n",
    "| $p(x)$| $0.1$| $0.1$|$0.5$|$0.2$|$0.1$|"
   ]
  },
  {
   "cell_type": "markdown",
   "id": "709495de",
   "metadata": {},
   "source": [
    "---\n",
    "## a) ##\n",
    "Plott punktfordelingen til $X$ som er barplot.\n",
    "\n",
    "Hint: Du kan bruke `pyplot.bar(x, height, width=0.8)` fra `matplotlib.pyplot`."
   ]
  },
  {
   "cell_type": "code",
   "execution_count": 11,
   "id": "d6b85404",
   "metadata": {},
   "outputs": [],
   "source": [
    "import matplotlib.pyplot as plt\n",
    "\n",
    "# Write code here"
   ]
  }
 ],
 "metadata": {
  "kernelspec": {
   "display_name": "Python 3 (ipykernel)",
   "language": "python",
   "name": "python3"
  },
  "language_info": {
   "codemirror_mode": {
    "name": "ipython",
    "version": 3
   },
   "file_extension": ".py",
   "mimetype": "text/x-python",
   "name": "python",
   "nbconvert_exporter": "python",
   "pygments_lexer": "ipython3",
   "version": "3.9.13"
  }
 },
 "nbformat": 4,
 "nbformat_minor": 5
}
