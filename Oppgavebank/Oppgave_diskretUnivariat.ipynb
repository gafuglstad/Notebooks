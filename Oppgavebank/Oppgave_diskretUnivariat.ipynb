{
 "cells": [
  {
   "cell_type": "markdown",
   "id": "56188ed3",
   "metadata": {},
   "source": [
    "# Oppgave 2 #\n",
    "La $X$ være en diskret fordelt stokastisk variabel med utfallsrom $\\{-2, -1, 0, 1, 2\\}$. Punktsannsynlighetene for hvert utfall er gitt i følgende tabell.\n",
    "\n",
    "| $x$   | $-2$ | $-1$ | $0$ | $1$ | $2$ |\n",
    "|:-----:|:----:|:----:|:---:|:---:|:---:|\n",
    "| $p(x)$| $0.1$| $0.1$|$0.5$|$0.2$|$0.1$|"
   ]
  },
  {
   "cell_type": "markdown",
   "id": "51b02d2f",
   "metadata": {},
   "source": [
    "---\n",
    "## a) ##\n",
    "Plott punktfordelingen til $X$ som er barplot.\n",
    "\n",
    "Hint: Du kan bruke `pyplot.bar(x, height, width=0.8)` fra `matplotlib.pyplot`."
   ]
  },
  {
   "cell_type": "code",
   "execution_count": 10,
   "id": "3d02136a",
   "metadata": {},
   "outputs": [
    {
     "data": {
      "text/plain": [
       "Text(0, 0.5, 'p(x)')"
      ]
     },
     "execution_count": 10,
     "metadata": {},
     "output_type": "execute_result"
    },
    {
     "data": {
      "image/png": "[encoded data removed]",
      "text/plain": [
       "<Figure size 432x288 with 1 Axes>"
      ]
     },
     "metadata": {
      "needs_background": "light"
     },
     "output_type": "display_data"
    }
   ],
   "source": [
    "import matplotlib.pyplot as plt\n",
    "\n",
    "x = [-2, -1, 0, 1, 2]\n",
    "p = [0.1, 0.1, 0.5, 0.2, 0.1]\n",
    "\n",
    "plt.bar(x, p, width = 0.5)\n",
    "plt.xlabel('x')\n",
    "plt.ylabel('p(x)')"
   ]
  }
 ],
 "metadata": {
  "kernelspec": {
   "display_name": "Python 3 (ipykernel)",
   "language": "python",
   "name": "python3"
  },
  "language_info": {
   "codemirror_mode": {
    "name": "ipython",
    "version": 3
   },
   "file_extension": ".py",
   "mimetype": "text/x-python",
   "name": "python",
   "nbconvert_exporter": "python",
   "pygments_lexer": "ipython3",
   "version": "3.9.13"
  }
 },
 "nbformat": 4,
 "nbformat_minor": 5
}
