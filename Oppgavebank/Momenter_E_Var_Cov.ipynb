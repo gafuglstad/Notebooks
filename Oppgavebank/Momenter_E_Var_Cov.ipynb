{
 "cells": [
  {
   "cell_type": "markdown",
   "id": "2c724f28",
   "metadata": {},
   "source": [
    "# Oppgave #\n",
    "Vi har tre uavhengige stokastiske variabler $U_1$, $U_2$ og $U_3$. $U_1$, $U_2$ og $U_3$ følger alle en uniform sannsynlighetsfordeling på $(0, 1)$ og sannsynslighetstetthetene er gitt ved\n",
    "$$ f_{U_1}(u) = f_{U_2}(u) = f_{u_3}(u) = f(u) = \\begin{cases} 1, & 0 < u < 1, \\\\ 0, & \\text{ellers.} \\end{cases}$$\n",
    "\n",
    "Basert på disse tre stokastiske variablene lager vi tre nye stokastiske variabler \n",
    "$$\\text{$X_1 = U_1-0.5$, $X_2 = 0.5-U_2$, og $X_3 = (U_1-0.5)^2+(U_2-0.5)^2$.}$$"
   ]
  },
  {
   "cell_type": "markdown",
   "id": "b0c9b9ff",
   "metadata": {},
   "source": [
    "--- \n",
    "## a) ##\n",
    "Regn ut forvetningsverdi og varians for $X_1$, $X_2$ og $X_3$."
   ]
  },
  {
   "cell_type": "markdown",
   "id": "352086a6",
   "metadata": {},
   "source": [
    "---\n",
    "## b) ##\n",
    "Regn ut kovarians og korrelasjon mellom $X_1$ og $X_2$ og mellom $X_1$ og $X_3$."
   ]
  },
  {
   "cell_type": "markdown",
   "id": "3b0bdcb7",
   "metadata": {},
   "source": [
    "--- \n",
    "## c) ##\n",
    "Lag en funksjon `simuler_simultan(nSamples)` som gir en simulering fra simultanfordelingen til $X_1$, $X_2$ og $X_3$. Verdiene skal returneres som en tuple bestående av tre 1-D array-er.\n",
    "\n",
    "Hint: Du kan bruke `random.uniform(low = 0.0, high = 1.0, size = None)` fra `numpy`."
   ]
  },
  {
   "cell_type": "code",
   "execution_count": 9,
   "id": "bd1b9421",
   "metadata": {},
   "outputs": [],
   "source": [
    "import numpy as np\n",
    "\n",
    "def simuler_simultan(nSamples):\n",
    "    # Skriv kode her\n",
    "    return (x1, x2, x3)"
   ]
  },
  {
   "cell_type": "markdown",
   "id": "830b6dfb",
   "metadata": {},
   "source": [
    "---\n",
    "## d) ##\n",
    "Bruk `simuler_simultan(nSamples)` til å trekke $n = 1000$ verdier fra simultanfordelingen til $X_1$, $X_2$ og $X_3$. Lag to kryssplott: \n",
    "1. Verdiene av $X_2$ mot verdiene av $X_1$.\n",
    "2. Verdiene av $X_3$ mot verdiene av $X_1$.\n",
    "\n",
    "Er $X_1$ og $X_2$ uavhengige? Er $X_1$ og $X_3$ uavhengige? Begrunn svarene matematisk, og forklar hvorfor dine svar er konsistente med både oppgave b) og kryssplottene."
   ]
  },
  {
   "cell_type": "code",
   "execution_count": 10,
   "id": "49a9dd07",
   "metadata": {},
   "outputs": [],
   "source": [
    "import matplotlib.pyplot as plt\n",
    "\n",
    "(x1, x2, x3) = simuler_simultan(1000)\n",
    "\n",
    "# Skriv kode her\n"
   ]
  },
  {
   "cell_type": "markdown",
   "id": "7268eb6b",
   "metadata": {},
   "source": [
    "---\n",
    "## e) ##\n",
    "Variansen til en stokastisk variabel $X$ er gitt ved $\\mathrm{Var}[X] = \\mathrm{E}[(X-\\mathrm{E}[X])^2]$. Dette er upraktisk fordi man er nødt til å estimere $\\mathrm{E}[X]$ før man kan estimere $\\mathrm{Var}[X]$.\n",
    "\n",
    "Ta utgangspunkt i $\\mathrm{Var}[X] = \\mathrm{E}[X^2]-\\mathrm{E}[X]^2$ og anta at vi ikke kjenner $\\mathrm{E}[X^2]$ og $\\mathrm{E}[X]$. Estimer de følgende variansene med $n = 1000$ simulerte verdier:\n",
    "1. $\\mathrm{Var}[X_1]$\n",
    "2. $\\mathrm{Var}[X_3]$\n",
    "\n",
    "Sammenlign med resultatene i a). Virker det som $n = 1000$ er tilstrekkelig mange simulerte verdier til å få et godt estimat. Gjenta gjerne simuleringen flere ganger.\n"
   ]
  },
  {
   "cell_type": "code",
   "execution_count": 11,
   "id": "137fb4a9",
   "metadata": {},
   "outputs": [],
   "source": [
    "# Skriv kode her"
   ]
  },
  {
   "cell_type": "markdown",
   "id": "b046b3e2",
   "metadata": {},
   "source": [
    "--- \n",
    "## f) ##\n",
    "På samme måte er det vanlig å estimere kovariansen mellom to stokastiske variabler $X$ og $Y$ ved $\\mathrm{Cov}[X,Y] = \\mathrm{E}[XY]-\\mathrm{E}[X]\\mathrm{E}[Y]$.\n",
    "\n",
    "Estimer kovariansen mellom $X_1$ og $X_3$ basert på $n = 1000$ simulerte verdier. Gjenta flere ganger og sammenlign med verdien i b). Virker $n = 1000$ å være tilstrekkelig for å få to signifikante siffer riktig i $\\mathrm{Cov}[X_1, X_3"
   ]
  }
 ],
 "metadata": {
  "kernelspec": {
   "display_name": "Python 3 (ipykernel)",
   "language": "python",
   "name": "python3"
  },
  "language_info": {
   "codemirror_mode": {
    "name": "ipython",
    "version": 3
   },
   "file_extension": ".py",
   "mimetype": "text/x-python",
   "name": "python",
   "nbconvert_exporter": "python",
   "pygments_lexer": "ipython3",
   "version": "3.9.13"
  }
 },
 "nbformat": 4,
 "nbformat_minor": 5
}
