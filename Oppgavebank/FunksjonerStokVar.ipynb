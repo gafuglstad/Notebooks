{
 "cells": [
  {
   "cell_type": "markdown",
   "id": "2e74ce44",
   "metadata": {},
   "source": [
    "# Oppgaver #\n",
    "Disse oppgavene omfatter ulike funksjoner av stokastiske variabler. Dere vil få brukt for funksjoner fra `scipy` og `numpy` som dere har brukt på tidligere øvinger."
   ]
  },
  {
   "cell_type": "markdown",
   "id": "c7fb20d4",
   "metadata": {},
   "source": [
    "---\n",
    "## a) ##\n"
   ]
  }
 ],
 "metadata": {
  "kernelspec": {
   "display_name": "Python 3 (ipykernel)",
   "language": "python",
   "name": "python3"
  },
  "language_info": {
   "codemirror_mode": {
    "name": "ipython",
    "version": 3
   },
   "file_extension": ".py",
   "mimetype": "text/x-python",
   "name": "python",
   "nbconvert_exporter": "python",
   "pygments_lexer": "ipython3",
   "version": "3.9.13"
  }
 },
 "nbformat": 4,
 "nbformat_minor": 5
}
