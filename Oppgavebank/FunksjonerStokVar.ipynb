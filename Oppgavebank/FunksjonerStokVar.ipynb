{
 "cells": [
  {
   "cell_type": "markdown",
   "id": "58301e60",
   "metadata": {},
   "source": [
    "# Oppgaver #\n",
    "Disse oppgavene omfatter ulike funksjoner av stokastiske variabler. Dere vil få brukt for funksjoner fra `scipy` og `numpy` som dere har brukt på tidligere øvinger."
   ]
  },
  {
   "cell_type": "markdown",
   "id": "27732cc5",
   "metadata": {},
   "source": [
    "---\n",
    "## a) ##\n",
    "Anta at vi ønsker å regne ut volumet, $v$, av en rektangulær boks med bredde $b$, lengde $l$ og høyde $h$. Vi vet at $v = blh$, men størrelsene $b$, $l$ og $h$ er ukjente og må måles. \n",
    "\n",
    "Vi bruker en vanlig linjal og lar de stokastiske variablene $B_\\mathrm{m}$, $L_\\mathrm{m}$ og $H_\\mathrm{m}$ betegne målingene av henholdsvis $b$, $l$ og $h$.\n",
    "Vi antar at $\\mathrm{E}[B_\\mathrm{m}] = b$, $\\mathrm{E}[L_\\mathrm{m}] = l$ og $\\mathrm{E}[H_\\mathrm{m}] = h$, og anslår at $\\mathrm{SD}[B_\\mathrm{m}] = \\mathrm{SD}[L_\\mathrm{m}] = \\mathrm{SD}[H_\\mathrm{m}] = \\sigma = 0.05 \\,\\mathrm{cm}$. La den stokastiske variabelen $V_\\mathrm{m} = B_\\mathrm{m}L_\\mathrm{m}H_\\mathrm{m}$ betegne målt volum. \n",
    "\n",
    "### a.1) ###\n",
    "Vis at forvetningsverdien til målt volum er lik det sanne volumet som vi ønsker å måle. Det vil si at $\\mathrm{E}[V_\\mathrm{m}] = v$.\n",
    "\n",
    "### a.2) ###\n",
    "Vi trenger å bestemme usikkerheten til målt volum gjennom å anslå verdien av $\\mathrm{SD}[V_\\mathrm{m}] = \\sqrt{\\mathrm{Var}[V_\\mathrm{m}]}$. Variansen til målt volum $V_\\mathrm{m} = f(B_\\mathrm{m},L_\\mathrm{m},H_\\mathrm{m}) = B_\\mathrm{m}L_\\mathrm{m}H_\\mathrm{m}$ kan ikke regnes eksakt uten å kjenne $b$, $l$ og $h$. Den vanlige framgangsmåten er å lineærisere $f(x,y,z)$ rundt punktet $(x,y,z) = (b,l,h)$ gjennom partiellderiverte. Dette er kjent for de som har tatt Matematikk 2, men vi antar ikke at dere kan dette. Lineærisering resulterer i å erstatte $V_\\mathrm{m}$ med den stokastiske variabelen\n",
    "$$ V_{\\mathrm{lin}} = blh + lh (B_\\mathrm{m}-b) + bh(L_\\mathrm{m}-l) + bl (H_\\mathrm{m}-h).$$\n",
    "\n",
    "Vis at $\\mathrm{SD}[V_{\\mathrm{lin}}] = v\\sqrt{(\\sigma/b)^2+(\\sigma/l)^2+(\\sigma/h)^2}$.\n",
    "\n",
    "### a.3) ###\n",
    "Det er vanlig å anslå $\\mathrm{SD}[V_{\\mathrm{lin}}]$ ved å bytte ut de ukjente størrelsene $v$, $b$, $h$ og $l$ med de målte størrelsene $v_\\mathrm{m}$, $b_\\mathrm{m}$, $l_\\mathrm{m}$ og $h_\\mathrm{m}$.\n",
    "\n",
    "Anta at vi måler $b_\\mathrm{m} = 18.2\\, \\mathrm{cm}$, $l_\\mathrm{m} = 10.1\\,\\mathrm{cm}$ og $h_\\mathrm{m} = 11.3\\,\\mathrm{cm}$. Regn ut målt volum $v_\\mathrm{m}$ og tilnærmet standardavvik for $V_\\mathrm{m}$.\n",
    "\n",
    "### a.4 ) ###\n",
    "Vi ønsker å undersøke nøyaktigheten til tilnærmingen vi har brukt og antar at de sanne målene til boksen er $b = 18.2\\, \\mathrm{cm}$, $l = 10.1\\, \\mathrm{cm}$ og $h = 11.3\\, \\mathrm{cm}$. Vi antar videre at $B_\\mathrm{m}\\sim\\mathcal{N}(b, \\sigma^2)$, $L_\\mathrm{m} \\sim \\mathcal{N}(l, \\sigma^2)$ og $H_\\mathrm{m}\\sim\\mathcal{N}(h, \\sigma^2)$.\n",
    "\n",
    "Skriv kode som gjentatte ganger simulerer målt volum $V_\\mathrm{m}$, og bruk Monte Carlo estimering til å vurdere nøyaktigheten av det tilnærmede verdien av standardavviket som ble regnet ut i **a.3)**."
   ]
  },
  {
   "cell_type": "code",
   "execution_count": 1,
   "id": "6e73f44c",
   "metadata": {},
   "outputs": [],
   "source": [
    "import numpy as np\n",
    "\n",
    "# Kode her"
   ]
  },
  {
   "cell_type": "markdown",
   "id": "81a0e2ef",
   "metadata": {},
   "source": [
    "--- \n",
    "## b) ##\n",
    "Vi har en rettvinklet trekant der vi ønsker å bestemme vinkelen $\\theta$ basert på måling av lengden av motstående katet $a$ og lengden av hosliggende katet $b$. Hvis $a$ og $b$ er kjente er $\\theta$ gitt ved den kjente sammenhengen $\\theta = \\mathrm{tan}^{-1}(a/b)$.\n",
    "\n",
    "La den stokastiske variablen $A_\\mathrm{m}$ betegne måling av $a$ og den stokastiske variablen $B_\\mathrm{m}$ måling av $b$. Vi bruker en vanlig linjal og anslår at $\\mathrm{SD}[A] = \\mathrm{SD}[B] = \\sigma = 0.05\\,\\mathrm{cm}$. Vi ønsker å bestemme usikkerheten til målt vinkel $\\Theta_\\mathrm{m} = \\tan^{-1}(A_\\mathrm{m}/B_\\mathrm{m})$ gjennom å anslå verdien av $\\mathrm{SD}[\\Theta_\\mathrm{m}]$.\n",
    "\n",
    "### b.1) ###\n",
    "La $f(x,y) = \\tan^{-1}(x/y)$. Lineæriseringen rundt $(x,y) = (a,b)$ er gitt ved\n",
    "$$ g(x,y) = f(a,b) + \\frac{\\partial f}{\\partial x}(a,b) (x-a) + \\frac{\\partial f}{\\partial y}(a,b) (y-b).$$\n",
    "\n",
    "Vis at \n",
    "$$\n",
    "g(x,y) = \\tan^{-1}(a/b) + \\frac{b}{a^2+b^2} (x-a) -\\frac{a}{a^2+b^2}(y-b).\n",
    "$$\n",
    "\n",
    "### b.2) ###\n",
    "Bruk lineæriseringen i **b.1)** til å argumentere for at $\\Theta_\\mathrm{m}$ kan tilnærmes med den stokastiske variablen\n",
    "$$\n",
    "    \\Theta_{\\mathrm{lin}} = \\tan^{-1}(a/b) + \\frac{b}{a^2+b^2} (A_\\mathrm{m}-a) -\\frac{a}{a^2+b^2}(B_\\mathrm{m}-b),\n",
    "$$\n",
    "og vis at\n",
    "$$\n",
    "    \\mathrm{SD}[\\Theta_{\\mathrm{lin}}] = \\frac{\\sigma^2}{a^2+b^2}.\n",
    "$$\n",
    "\n",
    "### b.3) ###\n",
    "Vi måler $a_\\mathrm{m} = 4\\,\\mathrm{cm}$ og $b_\\mathrm{m} = 3, \\mathrm{cm}$. Regn ut målt vinkel $\\theta_m$ og anslått standardavvik for $\\Theta_\\mathrm{m}$.\n",
    "\n",
    "### b.4) ###\n",
    "Anta at $a = 4\\, \\mathrm{cm}$ og at $b = 3, \\mathrm{cm}$. Undersøk nøyaktigheten av det tilnærmede uttrykket over ved å anta $A \\sim\\mathcal{N}(a, \\sigma^2)$ og $B\\sim \\mathcal{N}(b, \\sigma^2)$, og gjøre Monte Carlo estimering av $\\mathrm{SD}[\\Theta_\\mathrm{m}]$."
   ]
  },
  {
   "cell_type": "code",
   "execution_count": null,
   "id": "c7c93003",
   "metadata": {},
   "outputs": [],
   "source": [
    "import numpy as np\n",
    "\n",
    "# Kode her"
   ]
  },
  {
   "cell_type": "markdown",
   "id": "f97046c1",
   "metadata": {},
   "source": [
    "--- \n",
    "## c) ##\n",
    "Anta at vi skal gjøre en måling $X_\\mathrm{m}$ av den ukjente størrelsen $x$. Vi antar at $\\mathrm{E}[X_\\mathrm{m}] = x$ og $\\mathrm{SD}[X_\\mathrm{m}] = \\sigma$, og ønsker å bestemme hvordan usikkerheten i $X_\\mathrm{m}$ forplanter seg til $Y_\\mathrm{m} = \\exp(X_\\mathrm{m})$.\n",
    "\n",
    "### c.1) ###\n",
    "Vis at lineæriseringen av den stokastiske variablen $Y_\\mathrm{m}$ rundt $X = x$ er gitt ved\n",
    "$$ Y_{\\mathrm{lin}} = \\exp(x)(1+X_\\mathrm{m}-x).$$\n",
    "\n",
    "Bestem $\\mathrm{SD}[Y_{\\mathrm{lin}}]$ som en funksjon av $x$ og $\\sigma$.\n",
    "\n",
    "### c.2) ###\n",
    "Vis at hvis vi måler $x_\\mathrm{m} = 2$ så er anslått standardavvik for $Y_\\mathrm{m}$ basert på gauss' feilforplantningslov gitt ved\n",
    "$$ g(\\sigma) = \\exp(2)\\sigma, \\quad \\sigma > 0.$$\n",
    "\n",
    "### c.3) ###\n",
    "Anta at $X_\\mathrm{m}$ er normalfordelt. Da er det kjent at $h(\\sigma) = \\mathrm{SD}[Y_\\mathrm{m}] = \\sqrt{\\exp(\\sigma^2)-1}\\exp(x + \\sigma^2/2)$ for $\\sigma > 0$.\n",
    "\n",
    "Plot $g$ og $h$ i samme figur for $0 < \\sigma < 1$ når du velger $x = 2$. Vurder hvor liten $\\sigma$ må være for at det skal være rimelig å bruke gauss' feilforplantningslov for dette problemet."
   ]
  }
 ],
 "metadata": {
  "kernelspec": {
   "display_name": "Python 3 (ipykernel)",
   "language": "python",
   "name": "python3"
  },
  "language_info": {
   "codemirror_mode": {
    "name": "ipython",
    "version": 3
   },
   "file_extension": ".py",
   "mimetype": "text/x-python",
   "name": "python",
   "nbconvert_exporter": "python",
   "pygments_lexer": "ipython3",
   "version": "3.9.13"
  }
 },
 "nbformat": 4,
 "nbformat_minor": 5
}
