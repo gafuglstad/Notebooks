{
 "cells": [
  {
   "cell_type": "markdown",
   "id": "b8c36cd6",
   "metadata": {},
   "source": [
    "# Oppgave #\n",
    "To personer, A og B, spiller et terningspill som går som følger. De kaster en terning en gang hver etter tur og person A kaster først. Den person som først oppnår en 6'er er spillets vinner. La $p_\\mathrm{A}$ være sannsynligheten for at person A vinner spillet og $p_\\mathrm{B}$ være sannsynligheten for at person B vinner spillet. Definer hendelsene\n",
    "\\begin{align*}\n",
    "    \\begin{split}\n",
    "        A_i &= \\text{«person A vinner spillet i kast nr. $i$»} \\\\\n",
    "        B_i &= \\text{«person B vinner spillet i kast nr. $i$»} \\\\\n",
    "    \\end{split}, \\quad i = 1, 2, \\ldots.\n",
    "\\end{align*}"
   ]
  },
  {
   "cell_type": "markdown",
   "id": "1d4faede",
   "metadata": {},
   "source": [
    "---\n",
    "## a) ##\n",
    "Uttrykk hendelsen «person A vinner spillet» ved hjelp av $A_i$ og $B_i$, $i = 1, 2, \\ldots$, og bruk dette til å finne $p_\\mathrm{A}$."
   ]
  },
  {
   "cell_type": "markdown",
   "id": "b5650c94",
   "metadata": {},
   "source": [
    "---\n",
    "## b) ##\n",
    "Vi kan undersøke om svaret er riktig gjennom å simulere dette spillet gjentatte ganger. Lag en funksjon `simuler_spill()` som simulerer spillet én gang og returnerer vinneren. Bruk deretter denne funksjonen til å tilnærme $p_A$ ved å simulere spillet 1000 ganger.\n",
    "\n",
    "Hint: Du kan bruke funksjonen `random.randint(low, high, size)` fra `numpy`. Denne simulerer `size` tilfeldige verdier blant $\\{\\mathrm{low}, \\ldots, \\mathrm{high}-1\\}$, og kan brukes for å simulere terningskast."
   ]
  },
  {
   "cell_type": "code",
   "execution_count": 53,
   "id": "6e42837c",
   "metadata": {},
   "outputs": [],
   "source": [
    "import numpy as np\n",
    "\n",
    "# Denne funksjonen skal returnere 1 hvis spiller A vinner og 0 hvis spiller B vinner\n",
    "def simuler_spill():\n",
    "    # Bruk for eksempel en while-løkke til å gjennomføre rundene\n",
    "    # variablen vinner inneholder 0 eller 1    \n",
    "    return vinner"
   ]
  },
  {
   "cell_type": "code",
   "execution_count": 57,
   "id": "291dce13",
   "metadata": {},
   "outputs": [
    {
     "name": "stdout",
     "output_type": "stream",
     "text": [
      "P('Spiller A vinner') er tilnærmet lik 0.547\n"
     ]
    }
   ],
   "source": [
    "# Tilnærm verdien ved gjentatt bruk av simuler_spill()\n",
    "# Variablen pA skal inneholde verdien for a spiller A vinner\n",
    "print(\"P('Spiller A vinner') er tilnærmet lik\", pA)"
   ]
  },
  {
   "cell_type": "markdown",
   "id": "ee7402e5",
   "metadata": {},
   "source": [
    "---\n",
    "Per løser problemet i **a)** på en annen måte. Han setter opp følgende ligninger,\n",
    "\\begin{align*}\n",
    "    p_\\mathrm{A} = \\frac{1}{6} + \\left(\\frac{5}{6}\\right)^2p_\\mathrm{A} \\quad \\text{og}\\quad p_\\mathrm{B} = \\frac{5}{6}p_\\mathrm{A}.\n",
    "\\end{align*}\n",
    "Fra disse to ligningene finner han $p_\\mathrm{A}$ og $p_\\mathrm{B}$."
   ]
  },
  {
   "cell_type": "markdown",
   "id": "886745ef",
   "metadata": {},
   "source": [
    "---\n",
    "## c) ##\n",
    "Forklar hvordan disse ligningene fremkommer. Bruk samme angrepsmåte til å finne sannsynlighetene $p_i$, $i = 1, \\ldots, n$, for at person nr. $i$ er spillets vinner, når spillet spilles av $n$ personer som kaster etter denne rekkefølgen: person 1, person 2, osv. Gi en tolkning av $p_1$ når $n\\rightarrow \\infty$\n",
    "\n",
    "---"
   ]
  }
 ],
 "metadata": {
  "kernelspec": {
   "display_name": "Python 3 (ipykernel)",
   "language": "python",
   "name": "python3"
  },
  "language_info": {
   "codemirror_mode": {
    "name": "ipython",
    "version": 3
   },
   "file_extension": ".py",
   "mimetype": "text/x-python",
   "name": "python",
   "nbconvert_exporter": "python",
   "pygments_lexer": "ipython3",
   "version": "3.9.13"
  }
 },
 "nbformat": 4,
 "nbformat_minor": 5
}
